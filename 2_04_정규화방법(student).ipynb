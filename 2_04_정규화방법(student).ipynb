{
  "cells": [
    {
      "cell_type": "markdown",
      "metadata": {
        "id": "1wM-zJQCUyYl"
      },
      "source": [
        "![image.png](attachment:image.png)"
      ]
    },
    {
      "cell_type": "markdown",
      "metadata": {
        "id": "sLK2j8jjU7iR"
      },
      "source": [
        "## 릿지 회귀(Ridge Regression)\n",
        "\n",
        "- L2-norm 패널티를 더한 선형회귀 model\n",
        "  - 기존 선형 모델에 규제항을 추가해 overfitting을 해결\n",
        "- 가중치(회귀계수)의 절대값 규제(regularization)하여 각각의 특성(feature)이 출력 값에 주는 영향을 최소한으로 만들도록 한다.\n",
        "- 릿지 회귀는 회귀계수를 0에 가깝게하지만 0으로 만들지 않음(이미지 참고)\n",
        "\n",
        "\\begin{equation}\n",
        "RidgeMSE = \\frac{1}{N} \\sum_{i=1}^{N}(y_i - \\hat{y}_i)^2 + \\alpha \\sum_{i=1}^{p} w_i^2\n",
        "\\end{equation}\n",
        "\n",
        "  - $\\alpha$: 사용자가 지정하는 매개변수\n",
        "  - $\\alpha$가 크면 규제의 효과가 커지고, $\\alpha$가 작으면 규제의 효과가 작아짐\n",
        "  - $\\alpha$가 없으면 일반적인 선형 회귀와 같다.\n",
        "\n",
        "__참고__ \n",
        "- 규제를 사용하면 다중공선성(multicollinearity) 문제를 방지하기 때문에 모델의 과대적합을 막을 수 있게 됨\n",
        "  - 다중공선성 문제는 두 특성이 일치에 가까울 정도로 관련성(상관관계)이 높을 경우 발생"
      ]
    },
    {
      "cell_type": "markdown",
      "metadata": {
        "id": "FD_GYMeXpQRf"
      },
      "source": [
        "### 보스턴 주택 가격에 대한 릿지 회귀"
      ]
    },
    {
      "cell_type": "code",
      "execution_count": null,
      "metadata": {
        "id": "Chk1KBp7RmpL"
      },
      "outputs": [],
      "source": [
        "from sklearn.linear_model import Ridge\n",
        "from sklearn.datasets import load_boston\n",
        "from sklearn.model_selection import train_test_split"
      ]
    },
    {
      "cell_type": "code",
      "execution_count": null,
      "metadata": {
        "id": "pqfxGVa5UyYp",
        "outputId": "8fd77abe-ad53-446c-f5ed-1b1769701238"
      },
      "outputs": [
        {
          "name": "stdout",
          "output_type": "stream",
          "text": [
            "--2022-12-21 10:50:39--  https://raw.githubusercontent.com/myoh0623/dataset/main/boston.csv\n",
            "Resolving raw.githubusercontent.com (raw.githubusercontent.com)... 185.199.111.133, 185.199.108.133, 185.199.109.133, ...\n",
            "Connecting to raw.githubusercontent.com (raw.githubusercontent.com)|185.199.111.133|:443... connected.\n",
            "HTTP request sent, awaiting response... 200 OK\n",
            "Length: 41084 (40K) [text/plain]\n",
            "Saving to: ‘boston.csv’\n",
            "\n",
            "boston.csv          100%[===================>]  40.12K  --.-KB/s    in 0.002s  \n",
            "\n",
            "2022-12-21 10:50:39 (17.5 MB/s) - ‘boston.csv’ saved [41084/41084]\n",
            "\n"
          ]
        }
      ],
      "source": [
        "# from sklearn.datasets import load_boston\n",
        "import pandas\n",
        "\n",
        "!wget https://raw.githubusercontent.com/myoh0623/dataset/main/boston.csv\n",
        "boston_df = pandas.read_csv(\"boston.csv\")\n",
        "del boston_df[\"Unnamed: 0\"]\n",
        "\n",
        "x = boston_df.iloc[:,:-1]\n",
        "y = boston_df.iloc[:,-1:]\n",
        "\n",
        "# x, y = load_boston(return_X_y = True)\n",
        "x_train, x_test, y_train, y_test = train_test_split(x, y)"
      ]
    },
    {
      "cell_type": "code",
      "execution_count": null,
      "metadata": {
        "id": "9_8dGz45ZdvJ"
      },
      "outputs": [],
      "source": [
        "# x, y = load_boston(return_X_y = True)\n",
        "x_train, x_test, y_train, y_test = train_test_split(x, y)"
      ]
    },
    {
      "cell_type": "code",
      "execution_count": null,
      "metadata": {
        "colab": {
          "base_uri": "https://localhost:8080/"
        },
        "id": "OVvq3xFMZJ5b",
        "outputId": "6032fcf4-a2b4-4fa5-fafe-18bb5356f16e"
      },
      "outputs": [
        {
          "data": {
            "text/html": [
              "<style>#sk-container-id-4 {color: black;background-color: white;}#sk-container-id-4 pre{padding: 0;}#sk-container-id-4 div.sk-toggleable {background-color: white;}#sk-container-id-4 label.sk-toggleable__label {cursor: pointer;display: block;width: 100%;margin-bottom: 0;padding: 0.3em;box-sizing: border-box;text-align: center;}#sk-container-id-4 label.sk-toggleable__label-arrow:before {content: \"▸\";float: left;margin-right: 0.25em;color: #696969;}#sk-container-id-4 label.sk-toggleable__label-arrow:hover:before {color: black;}#sk-container-id-4 div.sk-estimator:hover label.sk-toggleable__label-arrow:before {color: black;}#sk-container-id-4 div.sk-toggleable__content {max-height: 0;max-width: 0;overflow: hidden;text-align: left;background-color: #f0f8ff;}#sk-container-id-4 div.sk-toggleable__content pre {margin: 0.2em;color: black;border-radius: 0.25em;background-color: #f0f8ff;}#sk-container-id-4 input.sk-toggleable__control:checked~div.sk-toggleable__content {max-height: 200px;max-width: 100%;overflow: auto;}#sk-container-id-4 input.sk-toggleable__control:checked~label.sk-toggleable__label-arrow:before {content: \"▾\";}#sk-container-id-4 div.sk-estimator input.sk-toggleable__control:checked~label.sk-toggleable__label {background-color: #d4ebff;}#sk-container-id-4 div.sk-label input.sk-toggleable__control:checked~label.sk-toggleable__label {background-color: #d4ebff;}#sk-container-id-4 input.sk-hidden--visually {border: 0;clip: rect(1px 1px 1px 1px);clip: rect(1px, 1px, 1px, 1px);height: 1px;margin: -1px;overflow: hidden;padding: 0;position: absolute;width: 1px;}#sk-container-id-4 div.sk-estimator {font-family: monospace;background-color: #f0f8ff;border: 1px dotted black;border-radius: 0.25em;box-sizing: border-box;margin-bottom: 0.5em;}#sk-container-id-4 div.sk-estimator:hover {background-color: #d4ebff;}#sk-container-id-4 div.sk-parallel-item::after {content: \"\";width: 100%;border-bottom: 1px solid gray;flex-grow: 1;}#sk-container-id-4 div.sk-label:hover label.sk-toggleable__label {background-color: #d4ebff;}#sk-container-id-4 div.sk-serial::before {content: \"\";position: absolute;border-left: 1px solid gray;box-sizing: border-box;top: 0;bottom: 0;left: 50%;z-index: 0;}#sk-container-id-4 div.sk-serial {display: flex;flex-direction: column;align-items: center;background-color: white;padding-right: 0.2em;padding-left: 0.2em;position: relative;}#sk-container-id-4 div.sk-item {position: relative;z-index: 1;}#sk-container-id-4 div.sk-parallel {display: flex;align-items: stretch;justify-content: center;background-color: white;position: relative;}#sk-container-id-4 div.sk-item::before, #sk-container-id-4 div.sk-parallel-item::before {content: \"\";position: absolute;border-left: 1px solid gray;box-sizing: border-box;top: 0;bottom: 0;left: 50%;z-index: -1;}#sk-container-id-4 div.sk-parallel-item {display: flex;flex-direction: column;z-index: 1;position: relative;background-color: white;}#sk-container-id-4 div.sk-parallel-item:first-child::after {align-self: flex-end;width: 50%;}#sk-container-id-4 div.sk-parallel-item:last-child::after {align-self: flex-start;width: 50%;}#sk-container-id-4 div.sk-parallel-item:only-child::after {width: 0;}#sk-container-id-4 div.sk-dashed-wrapped {border: 1px dashed gray;margin: 0 0.4em 0.5em 0.4em;box-sizing: border-box;padding-bottom: 0.4em;background-color: white;}#sk-container-id-4 div.sk-label label {font-family: monospace;font-weight: bold;display: inline-block;line-height: 1.2em;}#sk-container-id-4 div.sk-label-container {text-align: center;}#sk-container-id-4 div.sk-container {/* jupyter's `normalize.less` sets `[hidden] { display: none; }` but bootstrap.min.css set `[hidden] { display: none !important; }` so we also need the `!important` here to be able to override the default hidden behavior on the sphinx rendered scikit-learn.org. See: https://github.com/scikit-learn/scikit-learn/issues/21755 */display: inline-block !important;position: relative;}#sk-container-id-4 div.sk-text-repr-fallback {display: none;}</style><div id=\"sk-container-id-4\" class=\"sk-top-container\"><div class=\"sk-text-repr-fallback\"><pre>Ridge(alpha=0.2)</pre><b>In a Jupyter environment, please rerun this cell to show the HTML representation or trust the notebook. <br />On GitHub, the HTML representation is unable to render, please try loading this page with nbviewer.org.</b></div><div class=\"sk-container\" hidden><div class=\"sk-item\"><div class=\"sk-estimator sk-toggleable\"><input class=\"sk-toggleable__control sk-hidden--visually\" id=\"sk-estimator-id-4\" type=\"checkbox\" checked><label for=\"sk-estimator-id-4\" class=\"sk-toggleable__label sk-toggleable__label-arrow\">Ridge</label><div class=\"sk-toggleable__content\"><pre>Ridge(alpha=0.2)</pre></div></div></div></div></div>"
            ],
            "text/plain": [
              "Ridge(alpha=0.2)"
            ]
          },
          "execution_count": 31,
          "metadata": {},
          "output_type": "execute_result"
        }
      ],
      "source": [
        "model = Ridge(alpha = 0.2)\n",
        "model.fit(x_train, y_train)"
      ]
    },
    {
      "cell_type": "code",
      "execution_count": null,
      "metadata": {
        "colab": {
          "base_uri": "https://localhost:8080/"
        },
        "id": "UqcEnO53bPgp",
        "outputId": "4459c73b-5e2f-49e0-b9f6-2590860c455f"
      },
      "outputs": [
        {
          "name": "stdout",
          "output_type": "stream",
          "text": [
            "Train Data Score: 0.7498571473812008\n",
            "Test Data Score: 0.6976919918362727\n"
          ]
        }
      ],
      "source": [
        "print(f'Train Data Score: {model.score(x_train, y_train)}')\n",
        "print(f'Test Data Score: {model.score(x_test, y_test)}')"
      ]
    },
    {
      "cell_type": "code",
      "execution_count": null,
      "metadata": {
        "id": "xYMnNQUtUyYq"
      },
      "outputs": [],
      "source": [
        "import matplotlib.pyplot as plt\n",
        "def plot_boston_price(expected, predicted):\n",
        "  plt.figure(figsize=(8,4))\n",
        "  plt.scatter(expected, predicted)\n",
        "  plt.plot([5, 50], [5, 50], '--r') \n",
        "  plt.xlabel('True price ($1,000s)')\n",
        "  plt.ylabel('Predicted price ($1,000s)')\n",
        "  plt.tight_layout()"
      ]
    },
    {
      "cell_type": "code",
      "execution_count": null,
      "metadata": {
        "colab": {
          "base_uri": "https://localhost:8080/"
        },
        "id": "Mx0jKA2-XHC0",
        "outputId": "d08861fb-2348-4f29-e27a-1791379cbb5d"
      },
      "outputs": [
        {
          "data": {
            "image/png": "[encoded data removed]",
            "text/plain": [
              "<Figure size 800x400 with 1 Axes>"
            ]
          },
          "metadata": {},
          "output_type": "display_data"
        }
      ],
      "source": [
        "x_test_predict = model.predict(x_test)\n",
        "plot_boston_price(y_test, x_test_predict)"
      ]
    },
    {
      "cell_type": "markdown",
      "metadata": {
        "id": "tLliHYfepXyM"
      },
      "source": [
        "### 캘리포니아 주택 가격에 대한 릿지 회귀\n",
        "- alpha 값을 0.1, 0.2, 0.3, 0.4, 0.5 까지 작성하여 비교해 보세요 \n",
        "- alpha 가 너무 작으면 overfitting, 너무 크면  underfitting 발생"
      ]
    },
    {
      "cell_type": "code",
      "execution_count": null,
      "metadata": {
        "id": "GeMFTgyhpaX5"
      },
      "outputs": [],
      "source": [
        "from sklearn.datasets import fetch_california_housing\n",
        "from sklearn.linear_model import Ridge\n",
        "from sklearn.model_selection import train_test_split\n",
        "california = fetch_california_housing()"
      ]
    },
    {
      "cell_type": "code",
      "execution_count": null,
      "metadata": {
        "id": "OHE_PXDXUyYt",
        "outputId": "703495d6-029f-4eb2-e474-d21c36e260ec"
      },
      "outputs": [
        {
          "data": {
            "text/html": [
              "<style>#sk-container-id-5 {color: black;background-color: white;}#sk-container-id-5 pre{padding: 0;}#sk-container-id-5 div.sk-toggleable {background-color: white;}#sk-container-id-5 label.sk-toggleable__label {cursor: pointer;display: block;width: 100%;margin-bottom: 0;padding: 0.3em;box-sizing: border-box;text-align: center;}#sk-container-id-5 label.sk-toggleable__label-arrow:before {content: \"▸\";float: left;margin-right: 0.25em;color: #696969;}#sk-container-id-5 label.sk-toggleable__label-arrow:hover:before {color: black;}#sk-container-id-5 div.sk-estimator:hover label.sk-toggleable__label-arrow:before {color: black;}#sk-container-id-5 div.sk-toggleable__content {max-height: 0;max-width: 0;overflow: hidden;text-align: left;background-color: #f0f8ff;}#sk-container-id-5 div.sk-toggleable__content pre {margin: 0.2em;color: black;border-radius: 0.25em;background-color: #f0f8ff;}#sk-container-id-5 input.sk-toggleable__control:checked~div.sk-toggleable__content {max-height: 200px;max-width: 100%;overflow: auto;}#sk-container-id-5 input.sk-toggleable__control:checked~label.sk-toggleable__label-arrow:before {content: \"▾\";}#sk-container-id-5 div.sk-estimator input.sk-toggleable__control:checked~label.sk-toggleable__label {background-color: #d4ebff;}#sk-container-id-5 div.sk-label input.sk-toggleable__control:checked~label.sk-toggleable__label {background-color: #d4ebff;}#sk-container-id-5 input.sk-hidden--visually {border: 0;clip: rect(1px 1px 1px 1px);clip: rect(1px, 1px, 1px, 1px);height: 1px;margin: -1px;overflow: hidden;padding: 0;position: absolute;width: 1px;}#sk-container-id-5 div.sk-estimator {font-family: monospace;background-color: #f0f8ff;border: 1px dotted black;border-radius: 0.25em;box-sizing: border-box;margin-bottom: 0.5em;}#sk-container-id-5 div.sk-estimator:hover {background-color: #d4ebff;}#sk-container-id-5 div.sk-parallel-item::after {content: \"\";width: 100%;border-bottom: 1px solid gray;flex-grow: 1;}#sk-container-id-5 div.sk-label:hover label.sk-toggleable__label {background-color: #d4ebff;}#sk-container-id-5 div.sk-serial::before {content: \"\";position: absolute;border-left: 1px solid gray;box-sizing: border-box;top: 0;bottom: 0;left: 50%;z-index: 0;}#sk-container-id-5 div.sk-serial {display: flex;flex-direction: column;align-items: center;background-color: white;padding-right: 0.2em;padding-left: 0.2em;position: relative;}#sk-container-id-5 div.sk-item {position: relative;z-index: 1;}#sk-container-id-5 div.sk-parallel {display: flex;align-items: stretch;justify-content: center;background-color: white;position: relative;}#sk-container-id-5 div.sk-item::before, #sk-container-id-5 div.sk-parallel-item::before {content: \"\";position: absolute;border-left: 1px solid gray;box-sizing: border-box;top: 0;bottom: 0;left: 50%;z-index: -1;}#sk-container-id-5 div.sk-parallel-item {display: flex;flex-direction: column;z-index: 1;position: relative;background-color: white;}#sk-container-id-5 div.sk-parallel-item:first-child::after {align-self: flex-end;width: 50%;}#sk-container-id-5 div.sk-parallel-item:last-child::after {align-self: flex-start;width: 50%;}#sk-container-id-5 div.sk-parallel-item:only-child::after {width: 0;}#sk-container-id-5 div.sk-dashed-wrapped {border: 1px dashed gray;margin: 0 0.4em 0.5em 0.4em;box-sizing: border-box;padding-bottom: 0.4em;background-color: white;}#sk-container-id-5 div.sk-label label {font-family: monospace;font-weight: bold;display: inline-block;line-height: 1.2em;}#sk-container-id-5 div.sk-label-container {text-align: center;}#sk-container-id-5 div.sk-container {/* jupyter's `normalize.less` sets `[hidden] { display: none; }` but bootstrap.min.css set `[hidden] { display: none !important; }` so we also need the `!important` here to be able to override the default hidden behavior on the sphinx rendered scikit-learn.org. See: https://github.com/scikit-learn/scikit-learn/issues/21755 */display: inline-block !important;position: relative;}#sk-container-id-5 div.sk-text-repr-fallback {display: none;}</style><div id=\"sk-container-id-5\" class=\"sk-top-container\"><div class=\"sk-text-repr-fallback\"><pre>Ridge(alpha=0.2)</pre><b>In a Jupyter environment, please rerun this cell to show the HTML representation or trust the notebook. <br />On GitHub, the HTML representation is unable to render, please try loading this page with nbviewer.org.</b></div><div class=\"sk-container\" hidden><div class=\"sk-item\"><div class=\"sk-estimator sk-toggleable\"><input class=\"sk-toggleable__control sk-hidden--visually\" id=\"sk-estimator-id-5\" type=\"checkbox\" checked><label for=\"sk-estimator-id-5\" class=\"sk-toggleable__label sk-toggleable__label-arrow\">Ridge</label><div class=\"sk-toggleable__content\"><pre>Ridge(alpha=0.2)</pre></div></div></div></div></div>"
            ],
            "text/plain": [
              "Ridge(alpha=0.2)"
            ]
          },
          "execution_count": 36,
          "metadata": {},
          "output_type": "execute_result"
        }
      ],
      "source": [
        "x_train, x_test, y_train, y_test = train_test_split(california.data, california.target, test_size = 0.2)\n",
        "model = Ridge(alpha = 0.2)\n",
        "model.fit(x_train, y_train)"
      ]
    },
    {
      "cell_type": "code",
      "execution_count": null,
      "metadata": {
        "id": "V-IwJgfSUyYu",
        "outputId": "97460716-a25a-4c8d-cbe5-50a718e67dd5"
      },
      "outputs": [
        {
          "data": {
            "text/plain": [
              "0.2"
            ]
          },
          "execution_count": 37,
          "metadata": {},
          "output_type": "execute_result"
        }
      ],
      "source": [
        "model.alpha"
      ]
    },
    {
      "cell_type": "code",
      "execution_count": null,
      "metadata": {
        "id": "inEAhSksUyYu"
      },
      "outputs": [],
      "source": [
        "import numpy as np"
      ]
    },
    {
      "cell_type": "code",
      "execution_count": null,
      "metadata": {
        "id": "6YtO_avpUyYu",
        "outputId": "69021d05-aca5-4ed8-d3ed-4410f4085d74"
      },
      "outputs": [
        {
          "name": "stdout",
          "output_type": "stream",
          "text": [
            "alpha : 0.0 Train Data Score: 0.6027059456540118 Test Data Score: 0.6194795898543448\n",
            "alpha : 0.1 Train Data Score: 0.6027059452997251 Test Data Score: 0.6194786008788464\n",
            "alpha : 0.2 Train Data Score: 0.6027059442373421 Test Data Score: 0.6194776117711673\n",
            "alpha : 0.3 Train Data Score: 0.6027059424675777 Test Data Score: 0.619476622531599\n",
            "alpha : 0.4 Train Data Score: 0.602705939991146 Test Data Score: 0.619475633160433\n",
            "alpha : 0.5 Train Data Score: 0.6027059368087601 Test Data Score: 0.6194746436579601\n",
            "alpha : 0.6 Train Data Score: 0.6027059329211326 Test Data Score: 0.6194736540244715\n",
            "alpha : 0.7 Train Data Score: 0.6027059283289753 Test Data Score: 0.6194726642602564\n",
            "alpha : 0.8 Train Data Score: 0.602705923032999 Test Data Score: 0.619471674365605\n",
            "alpha : 0.9 Train Data Score: 0.602705917033914 Test Data Score: 0.6194706843408068\n"
          ]
        }
      ],
      "source": [
        "models = [Ridge(alpha = round(i, 1)) for i in np.arange(0, 1, 0.1)]\n",
        "trained_models = [] \n",
        "\n",
        "for model in models:\n",
        "    model.fit(x_train, y_train)\n",
        "    print(f\"alpha : {model.alpha}\", f'Train Data Score: {model.score(x_train, y_train)}' , f'Test Data Score: {model.score(x_test, y_test)}')\n",
        "    trained_models.append(model)"
      ]
    },
    {
      "cell_type": "code",
      "execution_count": null,
      "metadata": {
        "id": "O4kOnl3MUyYu",
        "outputId": "130c3821-c1f3-4f2f-95e0-850e6fc239ae"
      },
      "outputs": [
        {
          "name": "stdout",
          "output_type": "stream",
          "text": [
            "Train Data Score: 0.6027059456540118\n",
            "Test Data Score: 0.6194795898543435\n"
          ]
        }
      ],
      "source": [
        "# LinearRegression 에 대한 결과\n",
        "from sklearn.linear_model import LinearRegression\n",
        "model = LinearRegression()\n",
        "model.fit(x_train, y_train)\n",
        "print(f'Train Data Score: {model.score(x_train, y_train)}')\n",
        "print(f'Test Data Score: {model.score(x_test, y_test)}')"
      ]
    },
    {
      "cell_type": "code",
      "execution_count": null,
      "metadata": {
        "id": "wfF3GMT5UyYu"
      },
      "outputs": [],
      "source": [
        "def plot_california_prices(expected, predicted):\n",
        "  plt.figure(figsize = (8, 4))\n",
        "  plt.scatter(expected, predicted)\n",
        "  plt.plot([0, 5], [0, 5], '--r') \n",
        "  plt.xlabel('True price ($100,000s)')\n",
        "  plt.ylabel('Predicted pirce ($100,000s)')\n",
        "  plt.tight_layout()"
      ]
    },
    {
      "cell_type": "markdown",
      "metadata": {
        "id": "Lrgfx3qjdxE-"
      },
      "source": [
        "## 라쏘 회귀(Lasso Regression)\n",
        "- L1-norm 패널티를 더한 선형회귀 model\n",
        "- 라쏘 회귀는 릿지 회귀와 비슷하게 가중치를 0에 가깝게 만들지만, 조금 다른 방식을 사용\n",
        "- 불필요한 회귀계수를 급격하게 감소시켜 0으로 만들고 제거(이미지 참고)\n",
        "    - model 을 단순하게 만들어 overfitting 을 방지 한다. \n",
        "\n",
        "\\begin{equation}\n",
        "LassoMSE = \\frac{1}{N} \\sum_{i=1}^{N} (y_i - \\hat{y}_i)^2 + \\alpha \\sum_{i=1}^{p} |w_i|\n",
        "\\end{equation}\n",
        "\n",
        "- 라쏘 회귀도 매개변수인 $\\alpha$ 값을 통해 규제의 강도 조절 가능"
      ]
    },
    {
      "cell_type": "markdown",
      "metadata": {
        "id": "fPsXgo0FrJpC"
      },
      "source": [
        "### 보스턴 주택 가격에 대한 라쏘 회귀"
      ]
    },
    {
      "cell_type": "code",
      "execution_count": null,
      "metadata": {
        "id": "QszHpEISbS9L"
      },
      "outputs": [],
      "source": [
        "from sklearn.linear_model import Lasso"
      ]
    },
    {
      "cell_type": "code",
      "execution_count": null,
      "metadata": {
        "id": "ftGVzBFtUyYv",
        "outputId": "fd0c2ce7-0a25-4b4a-f799-7d40cb5f49ae"
      },
      "outputs": [
        {
          "name": "stdout",
          "output_type": "stream",
          "text": [
            "--2022-12-21 10:57:00--  https://raw.githubusercontent.com/myoh0623/dataset/main/boston.csv\n",
            "Resolving raw.githubusercontent.com (raw.githubusercontent.com)... 185.199.109.133, 185.199.108.133, 185.199.111.133, ...\n",
            "Connecting to raw.githubusercontent.com (raw.githubusercontent.com)|185.199.109.133|:443... connected.\n",
            "HTTP request sent, awaiting response... 200 OK\n",
            "Length: 41084 (40K) [text/plain]\n",
            "Saving to: ‘boston.csv’\n",
            "\n",
            "boston.csv          100%[===================>]  40.12K  --.-KB/s    in 0.001s  \n",
            "\n",
            "2022-12-21 10:57:00 (44.7 MB/s) - ‘boston.csv’ saved [41084/41084]\n",
            "\n"
          ]
        }
      ],
      "source": [
        "# from sklearn.datasets import load_boston\n",
        "import pandas\n",
        "\n",
        "!wget https://raw.githubusercontent.com/myoh0623/dataset/main/boston.csv -O boston.csv\n",
        "boston_df = pandas.read_csv(\"boston.csv\")\n",
        "del boston_df[\"Unnamed: 0\"]\n",
        "\n",
        "x = boston_df.iloc[:,:-1]\n",
        "y = boston_df.iloc[:,-1:]\n",
        "\n",
        "# x, y = load_boston(return_X_y = True)\n",
        "x_train, x_test, y_train, y_test = train_test_split(x, y)"
      ]
    },
    {
      "cell_type": "code",
      "execution_count": null,
      "metadata": {
        "colab": {
          "base_uri": "https://localhost:8080/"
        },
        "id": "PQMymm8cY7TA",
        "outputId": "eb5980cb-4649-4ed8-c50c-60e31787d946"
      },
      "outputs": [
        {
          "data": {
            "text/html": [
              "<style>#sk-container-id-8 {color: black;background-color: white;}#sk-container-id-8 pre{padding: 0;}#sk-container-id-8 div.sk-toggleable {background-color: white;}#sk-container-id-8 label.sk-toggleable__label {cursor: pointer;display: block;width: 100%;margin-bottom: 0;padding: 0.3em;box-sizing: border-box;text-align: center;}#sk-container-id-8 label.sk-toggleable__label-arrow:before {content: \"▸\";float: left;margin-right: 0.25em;color: #696969;}#sk-container-id-8 label.sk-toggleable__label-arrow:hover:before {color: black;}#sk-container-id-8 div.sk-estimator:hover label.sk-toggleable__label-arrow:before {color: black;}#sk-container-id-8 div.sk-toggleable__content {max-height: 0;max-width: 0;overflow: hidden;text-align: left;background-color: #f0f8ff;}#sk-container-id-8 div.sk-toggleable__content pre {margin: 0.2em;color: black;border-radius: 0.25em;background-color: #f0f8ff;}#sk-container-id-8 input.sk-toggleable__control:checked~div.sk-toggleable__content {max-height: 200px;max-width: 100%;overflow: auto;}#sk-container-id-8 input.sk-toggleable__control:checked~label.sk-toggleable__label-arrow:before {content: \"▾\";}#sk-container-id-8 div.sk-estimator input.sk-toggleable__control:checked~label.sk-toggleable__label {background-color: #d4ebff;}#sk-container-id-8 div.sk-label input.sk-toggleable__control:checked~label.sk-toggleable__label {background-color: #d4ebff;}#sk-container-id-8 input.sk-hidden--visually {border: 0;clip: rect(1px 1px 1px 1px);clip: rect(1px, 1px, 1px, 1px);height: 1px;margin: -1px;overflow: hidden;padding: 0;position: absolute;width: 1px;}#sk-container-id-8 div.sk-estimator {font-family: monospace;background-color: #f0f8ff;border: 1px dotted black;border-radius: 0.25em;box-sizing: border-box;margin-bottom: 0.5em;}#sk-container-id-8 div.sk-estimator:hover {background-color: #d4ebff;}#sk-container-id-8 div.sk-parallel-item::after {content: \"\";width: 100%;border-bottom: 1px solid gray;flex-grow: 1;}#sk-container-id-8 div.sk-label:hover label.sk-toggleable__label {background-color: #d4ebff;}#sk-container-id-8 div.sk-serial::before {content: \"\";position: absolute;border-left: 1px solid gray;box-sizing: border-box;top: 0;bottom: 0;left: 50%;z-index: 0;}#sk-container-id-8 div.sk-serial {display: flex;flex-direction: column;align-items: center;background-color: white;padding-right: 0.2em;padding-left: 0.2em;position: relative;}#sk-container-id-8 div.sk-item {position: relative;z-index: 1;}#sk-container-id-8 div.sk-parallel {display: flex;align-items: stretch;justify-content: center;background-color: white;position: relative;}#sk-container-id-8 div.sk-item::before, #sk-container-id-8 div.sk-parallel-item::before {content: \"\";position: absolute;border-left: 1px solid gray;box-sizing: border-box;top: 0;bottom: 0;left: 50%;z-index: -1;}#sk-container-id-8 div.sk-parallel-item {display: flex;flex-direction: column;z-index: 1;position: relative;background-color: white;}#sk-container-id-8 div.sk-parallel-item:first-child::after {align-self: flex-end;width: 50%;}#sk-container-id-8 div.sk-parallel-item:last-child::after {align-self: flex-start;width: 50%;}#sk-container-id-8 div.sk-parallel-item:only-child::after {width: 0;}#sk-container-id-8 div.sk-dashed-wrapped {border: 1px dashed gray;margin: 0 0.4em 0.5em 0.4em;box-sizing: border-box;padding-bottom: 0.4em;background-color: white;}#sk-container-id-8 div.sk-label label {font-family: monospace;font-weight: bold;display: inline-block;line-height: 1.2em;}#sk-container-id-8 div.sk-label-container {text-align: center;}#sk-container-id-8 div.sk-container {/* jupyter's `normalize.less` sets `[hidden] { display: none; }` but bootstrap.min.css set `[hidden] { display: none !important; }` so we also need the `!important` here to be able to override the default hidden behavior on the sphinx rendered scikit-learn.org. See: https://github.com/scikit-learn/scikit-learn/issues/21755 */display: inline-block !important;position: relative;}#sk-container-id-8 div.sk-text-repr-fallback {display: none;}</style><div id=\"sk-container-id-8\" class=\"sk-top-container\"><div class=\"sk-text-repr-fallback\"><pre>Lasso(alpha=0.1)</pre><b>In a Jupyter environment, please rerun this cell to show the HTML representation or trust the notebook. <br />On GitHub, the HTML representation is unable to render, please try loading this page with nbviewer.org.</b></div><div class=\"sk-container\" hidden><div class=\"sk-item\"><div class=\"sk-estimator sk-toggleable\"><input class=\"sk-toggleable__control sk-hidden--visually\" id=\"sk-estimator-id-8\" type=\"checkbox\" checked><label for=\"sk-estimator-id-8\" class=\"sk-toggleable__label sk-toggleable__label-arrow\">Lasso</label><div class=\"sk-toggleable__content\"><pre>Lasso(alpha=0.1)</pre></div></div></div></div></div>"
            ],
            "text/plain": [
              "Lasso(alpha=0.1)"
            ]
          },
          "execution_count": 56,
          "metadata": {},
          "output_type": "execute_result"
        }
      ],
      "source": [
        "model = Lasso(alpha = 0.1)\n",
        "# model = Lasso(alpha = 0.01)\n",
        "# model = Lasso(alpha = 0.001)\n",
        "model.fit(x_train, y_train)"
      ]
    },
    {
      "cell_type": "code",
      "execution_count": null,
      "metadata": {
        "id": "_bQ_uazLUyYw",
        "outputId": "c35ce65c-841c-4f9c-e450-1d339dcf8467"
      },
      "outputs": [
        {
          "name": "stdout",
          "output_type": "stream",
          "text": [
            "alpha : 1.0 Train Data Score: 0.29075167035569627 Test Data Score: 0.2856391060945035\n",
            "alpha : 0.1 Train Data Score: 0.5482975729196293 Test Data Score: 0.5304075054197133\n",
            "alpha : 0.01 Train Data Score: 0.6049758088941315 Test Data Score: 0.5892204618329687\n",
            "alpha : 0.001 Train Data Score: 0.6086735743503 Test Data Score: 0.5949817877732055\n"
          ]
        }
      ],
      "source": [
        "models = [Lasso(alpha = round(0.1**i, 3)) for i in np.arange(0, 4)]\n",
        "trained_models = [] \n",
        "\n",
        "for model in models:\n",
        "    model.fit(x_train, y_train)\n",
        "    print(f\"alpha : {model.alpha}\", f'Train Data Score: {model.score(x_train, y_train)}' , f'Test Data Score: {model.score(x_test, y_test)}')\n",
        "    trained_models.append(model)"
      ]
    },
    {
      "cell_type": "code",
      "execution_count": null,
      "metadata": {
        "colab": {
          "base_uri": "https://localhost:8080/"
        },
        "id": "CsOzBDA_Y_Ts",
        "outputId": "5fb02547-9123-4da3-ceba-6da4a685e610"
      },
      "outputs": [
        {
          "name": "stdout",
          "output_type": "stream",
          "text": [
            "Train Data Score: 0.6086735743503\n",
            "Test Data Score: 0.5949817877732055\n"
          ]
        }
      ],
      "source": [
        "print(f'Train Data Score: {trained_models[3].score(x_train, y_train)}')\n",
        "print(f'Test Data Score: {trained_models[3].score(x_test, y_test)}')"
      ]
    },
    {
      "cell_type": "code",
      "execution_count": null,
      "metadata": {
        "colab": {
          "base_uri": "https://localhost:8080/"
        },
        "id": "N30DkUpgZ9RG",
        "outputId": "643b5eb5-11d7-4457-f84e-8780850792b6"
      },
      "outputs": [
        {
          "data": {
            "text/plain": [
              "(array([2.601, 2.736, 2.135, ..., 0.947, 2.148, 3.231]),\n",
              " array([2.37951735, 2.61177349, 2.43904396, ..., 0.79395388, 2.32510508,\n",
              "        1.98002756]))"
            ]
          },
          "execution_count": 64,
          "metadata": {},
          "output_type": "execute_result"
        }
      ],
      "source": [
        "x_test_predict = trained_models[3].predict(x_test)\n",
        "\n",
        "(y_test, x_test_predict)"
      ]
    },
    {
      "cell_type": "markdown",
      "metadata": {
        "id": "LfhxV7ABrOIv"
      },
      "source": [
        "### 캘리포니아 주택 가격에 대한 라쏘 회귀"
      ]
    },
    {
      "cell_type": "code",
      "execution_count": null,
      "metadata": {
        "id": "smTj7ZQ3UyYx"
      },
      "outputs": [],
      "source": [
        "x_train, x_test, y_train, y_test = train_test_split(california.data, california.target, test_size = 0.2)"
      ]
    },
    {
      "cell_type": "code",
      "execution_count": null,
      "metadata": {
        "id": "rk046n8mUyYx",
        "outputId": "7ba7784b-968d-4785-e068-37932dd95014"
      },
      "outputs": [
        {
          "name": "stdout",
          "output_type": "stream",
          "text": [
            "alpha : 1.0 Train Data Score: 0.28701064773403895 Test Data Score: 0.2837135232624509\n",
            "alpha : 0.1 Train Data Score: 0.5423454123925491 Test Data Score: 0.5490773987967961\n",
            "alpha : 0.01 Train Data Score: 0.5990026173791605 Test Data Score: 0.6126802436693182\n",
            "alpha : 0.001 Train Data Score: 0.6026990989717411 Test Data Score: 0.6194702947534714\n"
          ]
        }
      ],
      "source": [
        "models = [Lasso(alpha = round(0.1**i, 3)) for i in np.arange(0, 4)]\n",
        "trained_models = [] \n",
        "\n",
        "for model in models:\n",
        "    model.fit(x_train, y_train)\n",
        "    print(f\"alpha : {model.alpha}\", f'Train Data Score: {model.score(x_train, y_train)}' , f'Test Data Score: {model.score(x_test, y_test)}')\n",
        "    trained_models.append(model)"
      ]
    },
    {
      "cell_type": "code",
      "execution_count": null,
      "metadata": {
        "id": "QxYrTvZPUyYx",
        "outputId": "73c2b50e-ba6e-45cf-d7f0-e6d6bd0a9f7c"
      },
      "outputs": [
        {
          "name": "stdout",
          "output_type": "stream",
          "text": [
            "Train Data Score: 0.6026990989717411\n",
            "Test Data Score: 0.6194702947534714\n"
          ]
        }
      ],
      "source": [
        "print(f'Train Data Score: {trained_models[3].score(x_train, y_train)}')\n",
        "print(f'Test Data Score: {trained_models[3].score(x_test, y_test)}')"
      ]
    },
    {
      "cell_type": "code",
      "execution_count": null,
      "metadata": {
        "id": "Mb9mWFgbUyYx",
        "outputId": "1c0b25b6-d49f-42d0-a5f8-ba99c3278359"
      },
      "outputs": [
        {
          "data": {
            "image/png": "[encoded data removed]",
            "text/plain": [
              "<Figure size 800x400 with 1 Axes>"
            ]
          },
          "metadata": {},
          "output_type": "display_data"
        }
      ],
      "source": [
        "x_test_predict = trained_models[3].predict(x_test)\n",
        "plot_california_prices(y_test, x_test_predict)"
      ]
    },
    {
      "cell_type": "markdown",
      "metadata": {
        "id": "e3JIGKKtaaXJ"
      },
      "source": [
        "## 신축망 (Elastic-Net)\n",
        "\n",
        "- 릿지 회귀와 라쏘 회귀, 두 모델의 모든 규제를 사용하는 선형 모델. \n",
        "- 데이터 특성이 많거나 서로 상관 관계가 높은 특성이 존재 할 때 위의 두 모델보다 좋은 성능을 보여 준다.\n",
        "\n",
        "\\begin{equation}\n",
        "ElasticMSE = \\frac{1}{N} \\sum_{i=1}^{N} (y_i - \\hat{y}_i) + \\alpha \\rho \\sum_{i=1}^{p} |w_i| + \\alpha (1 - \\rho) \\sum_{i=1}^{p} w_i^2\n",
        "\\end{equation}\n",
        "\n",
        "- $\\alpha$: 규제의 강도를 조절하는 매개변수\n",
        "- $\\rho$: 라쏘 규제와 릿지 규제 사이의 가중치를 조절하는 매개변수"
      ]
    },
    {
      "cell_type": "markdown",
      "metadata": {
        "id": "MP8h1KrgsLlt"
      },
      "source": [
        "### 보스턴 주택 가격에 대한 신축망"
      ]
    },
    {
      "cell_type": "code",
      "execution_count": null,
      "metadata": {
        "id": "6gnNzzFjZCXi"
      },
      "outputs": [],
      "source": [
        "from sklearn.linear_model import ElasticNet"
      ]
    },
    {
      "cell_type": "code",
      "execution_count": null,
      "metadata": {
        "id": "lkw-_6xBdqM-",
        "outputId": "e6cef851-953d-4ce1-bcc5-bab05dde654e"
      },
      "outputs": [
        {
          "name": "stdout",
          "output_type": "stream",
          "text": [
            "--2022-12-21 10:59:28--  https://raw.githubusercontent.com/myoh0623/dataset/main/boston.csv\n",
            "Resolving raw.githubusercontent.com (raw.githubusercontent.com)... 185.199.111.133, 185.199.110.133, 185.199.108.133, ...\n",
            "Connecting to raw.githubusercontent.com (raw.githubusercontent.com)|185.199.111.133|:443... connected.\n",
            "HTTP request sent, awaiting response... 200 OK\n",
            "Length: 41084 (40K) [text/plain]\n",
            "Saving to: ‘boston.csv’\n",
            "\n",
            "boston.csv          100%[===================>]  40.12K  --.-KB/s    in 0.001s  \n",
            "\n",
            "2022-12-21 10:59:28 (42.7 MB/s) - ‘boston.csv’ saved [41084/41084]\n",
            "\n"
          ]
        }
      ],
      "source": [
        "# from sklearn.datasets import load_boston\n",
        "import pandas\n",
        "\n",
        "!wget https://raw.githubusercontent.com/myoh0623/dataset/main/boston.csv -O boston.csv\n",
        "boston_df = pandas.read_csv(\"boston.csv\")\n",
        "del boston_df[\"Unnamed: 0\"]\n",
        "\n",
        "x = boston_df.iloc[:,:-1]\n",
        "y = boston_df.iloc[:,-1:]\n",
        "\n",
        "# x, y = load_boston(return_X_y = True)\n",
        "x_train, x_test, y_train, y_test = train_test_split(x, y)"
      ]
    },
    {
      "cell_type": "code",
      "execution_count": null,
      "metadata": {
        "colab": {
          "base_uri": "https://localhost:8080/"
        },
        "id": "a1TVo-Nrdsfd",
        "outputId": "96a3ad48-2b19-45f9-b458-978571501a2c"
      },
      "outputs": [
        {
          "data": {
            "text/html": [
              "<style>#sk-container-id-9 {color: black;background-color: white;}#sk-container-id-9 pre{padding: 0;}#sk-container-id-9 div.sk-toggleable {background-color: white;}#sk-container-id-9 label.sk-toggleable__label {cursor: pointer;display: block;width: 100%;margin-bottom: 0;padding: 0.3em;box-sizing: border-box;text-align: center;}#sk-container-id-9 label.sk-toggleable__label-arrow:before {content: \"▸\";float: left;margin-right: 0.25em;color: #696969;}#sk-container-id-9 label.sk-toggleable__label-arrow:hover:before {color: black;}#sk-container-id-9 div.sk-estimator:hover label.sk-toggleable__label-arrow:before {color: black;}#sk-container-id-9 div.sk-toggleable__content {max-height: 0;max-width: 0;overflow: hidden;text-align: left;background-color: #f0f8ff;}#sk-container-id-9 div.sk-toggleable__content pre {margin: 0.2em;color: black;border-radius: 0.25em;background-color: #f0f8ff;}#sk-container-id-9 input.sk-toggleable__control:checked~div.sk-toggleable__content {max-height: 200px;max-width: 100%;overflow: auto;}#sk-container-id-9 input.sk-toggleable__control:checked~label.sk-toggleable__label-arrow:before {content: \"▾\";}#sk-container-id-9 div.sk-estimator input.sk-toggleable__control:checked~label.sk-toggleable__label {background-color: #d4ebff;}#sk-container-id-9 div.sk-label input.sk-toggleable__control:checked~label.sk-toggleable__label {background-color: #d4ebff;}#sk-container-id-9 input.sk-hidden--visually {border: 0;clip: rect(1px 1px 1px 1px);clip: rect(1px, 1px, 1px, 1px);height: 1px;margin: -1px;overflow: hidden;padding: 0;position: absolute;width: 1px;}#sk-container-id-9 div.sk-estimator {font-family: monospace;background-color: #f0f8ff;border: 1px dotted black;border-radius: 0.25em;box-sizing: border-box;margin-bottom: 0.5em;}#sk-container-id-9 div.sk-estimator:hover {background-color: #d4ebff;}#sk-container-id-9 div.sk-parallel-item::after {content: \"\";width: 100%;border-bottom: 1px solid gray;flex-grow: 1;}#sk-container-id-9 div.sk-label:hover label.sk-toggleable__label {background-color: #d4ebff;}#sk-container-id-9 div.sk-serial::before {content: \"\";position: absolute;border-left: 1px solid gray;box-sizing: border-box;top: 0;bottom: 0;left: 50%;z-index: 0;}#sk-container-id-9 div.sk-serial {display: flex;flex-direction: column;align-items: center;background-color: white;padding-right: 0.2em;padding-left: 0.2em;position: relative;}#sk-container-id-9 div.sk-item {position: relative;z-index: 1;}#sk-container-id-9 div.sk-parallel {display: flex;align-items: stretch;justify-content: center;background-color: white;position: relative;}#sk-container-id-9 div.sk-item::before, #sk-container-id-9 div.sk-parallel-item::before {content: \"\";position: absolute;border-left: 1px solid gray;box-sizing: border-box;top: 0;bottom: 0;left: 50%;z-index: -1;}#sk-container-id-9 div.sk-parallel-item {display: flex;flex-direction: column;z-index: 1;position: relative;background-color: white;}#sk-container-id-9 div.sk-parallel-item:first-child::after {align-self: flex-end;width: 50%;}#sk-container-id-9 div.sk-parallel-item:last-child::after {align-self: flex-start;width: 50%;}#sk-container-id-9 div.sk-parallel-item:only-child::after {width: 0;}#sk-container-id-9 div.sk-dashed-wrapped {border: 1px dashed gray;margin: 0 0.4em 0.5em 0.4em;box-sizing: border-box;padding-bottom: 0.4em;background-color: white;}#sk-container-id-9 div.sk-label label {font-family: monospace;font-weight: bold;display: inline-block;line-height: 1.2em;}#sk-container-id-9 div.sk-label-container {text-align: center;}#sk-container-id-9 div.sk-container {/* jupyter's `normalize.less` sets `[hidden] { display: none; }` but bootstrap.min.css set `[hidden] { display: none !important; }` so we also need the `!important` here to be able to override the default hidden behavior on the sphinx rendered scikit-learn.org. See: https://github.com/scikit-learn/scikit-learn/issues/21755 */display: inline-block !important;position: relative;}#sk-container-id-9 div.sk-text-repr-fallback {display: none;}</style><div id=\"sk-container-id-9\" class=\"sk-top-container\"><div class=\"sk-text-repr-fallback\"><pre>ElasticNet(alpha=0.001)</pre><b>In a Jupyter environment, please rerun this cell to show the HTML representation or trust the notebook. <br />On GitHub, the HTML representation is unable to render, please try loading this page with nbviewer.org.</b></div><div class=\"sk-container\" hidden><div class=\"sk-item\"><div class=\"sk-estimator sk-toggleable\"><input class=\"sk-toggleable__control sk-hidden--visually\" id=\"sk-estimator-id-9\" type=\"checkbox\" checked><label for=\"sk-estimator-id-9\" class=\"sk-toggleable__label sk-toggleable__label-arrow\">ElasticNet</label><div class=\"sk-toggleable__content\"><pre>ElasticNet(alpha=0.001)</pre></div></div></div></div></div>"
            ],
            "text/plain": [
              "ElasticNet(alpha=0.001)"
            ]
          },
          "execution_count": 73,
          "metadata": {},
          "output_type": "execute_result"
        }
      ],
      "source": [
        "model = ElasticNet(alpha=0.001, l1_ratio=0.5)\n",
        "model.fit(x_train, y_train)"
      ]
    },
    {
      "cell_type": "code",
      "execution_count": null,
      "metadata": {
        "id": "tukQevCBUyYx",
        "outputId": "23d69351-c009-45be-c3f5-f857fd75aeeb"
      },
      "outputs": [
        {
          "data": {
            "text/plain": [
              "0.5"
            ]
          },
          "execution_count": 75,
          "metadata": {},
          "output_type": "execute_result"
        }
      ],
      "source": [
        "model.l1_ratio"
      ]
    },
    {
      "cell_type": "code",
      "execution_count": null,
      "metadata": {
        "colab": {
          "base_uri": "https://localhost:8080/"
        },
        "id": "7qUVyusSd1s3",
        "outputId": "fda12a21-e131-47cd-cc4f-04262e76cbf5"
      },
      "outputs": [
        {
          "name": "stdout",
          "output_type": "stream",
          "text": [
            "Train Data Score: 0.723893759453932\n",
            "Test Data Score: 0.7680947844313235\n"
          ]
        }
      ],
      "source": [
        "print(f'Train Data Score: {model.score(x_train, y_train)}')\n",
        "print(f'Test Data Score: {model.score(x_test, y_test)}')"
      ]
    },
    {
      "cell_type": "code",
      "execution_count": null,
      "metadata": {
        "colab": {
          "base_uri": "https://localhost:8080/",
          "height": 297
        },
        "id": "D4XipwC1aBgs",
        "outputId": "b05f4678-440a-4f92-96cb-bd5fe02b786e"
      },
      "outputs": [
        {
          "data": {
            "image/png": "[encoded data removed]",
            "text/plain": [
              "<Figure size 800x400 with 1 Axes>"
            ]
          },
          "metadata": {},
          "output_type": "display_data"
        }
      ],
      "source": [
        "x_test_predict = model.predict(x_test)\n",
        "plot_boston_price(y_test, x_test_predict)"
      ]
    },
    {
      "cell_type": "markdown",
      "metadata": {
        "id": "TJc5zH1BsZPn"
      },
      "source": [
        "### 캘리포니아 주택 가격에 대한 신축망"
      ]
    },
    {
      "cell_type": "code",
      "execution_count": null,
      "metadata": {
        "id": "K0fIz0b7sZPo"
      },
      "outputs": [],
      "source": [
        "from sklearn.datasets import fetch_california_housing\n",
        "california = fetch_california_housing()"
      ]
    },
    {
      "cell_type": "code",
      "execution_count": null,
      "metadata": {
        "id": "BOrfdkJuUyYy"
      },
      "outputs": [],
      "source": [
        "x_train, x_test, y_train, y_test = train_test_split(california.data, california.target, test_size = 0.2)"
      ]
    },
    {
      "cell_type": "code",
      "execution_count": null,
      "metadata": {
        "id": "oUOfc6TIUyYy"
      },
      "outputs": [],
      "source": [
        "model = ElasticNet()"
      ]
    },
    {
      "cell_type": "code",
      "execution_count": null,
      "metadata": {
        "id": "-t8og25-UyYy",
        "outputId": "1180818d-a355-4b06-8694-0224a9ccc5f6"
      },
      "outputs": [
        {
          "data": {
            "text/plain": [
              "1.0"
            ]
          },
          "execution_count": 94,
          "metadata": {},
          "output_type": "execute_result"
        }
      ],
      "source": [
        "model.alpha"
      ]
    },
    {
      "cell_type": "code",
      "execution_count": null,
      "metadata": {
        "id": "Y-bSSLl0UyYy",
        "outputId": "8dbb2e1c-5794-4a38-f9bf-0906a8db81c0"
      },
      "outputs": [
        {
          "data": {
            "text/plain": [
              "0.5"
            ]
          },
          "execution_count": 95,
          "metadata": {},
          "output_type": "execute_result"
        }
      ],
      "source": [
        "model.l1_ratio"
      ]
    },
    {
      "cell_type": "code",
      "execution_count": null,
      "metadata": {
        "id": "1yNFel_7UyYy",
        "outputId": "b5f2614b-0094-4aa7-9546-3ccac0e66ff0"
      },
      "outputs": [
        {
          "name": "stdout",
          "output_type": "stream",
          "text": [
            "alpha : 1.0, l1_ratio : 0.5 Train Data Score: 0.4225139395039168 Test Data Score: 0.42798699861114164\n",
            "alpha : 0.1, l1_ratio : 0.5 Train Data Score: 0.5746270412918129 Test Data Score: 0.5811700658050447\n",
            "alpha : 0.01, l1_ratio : 0.5 Train Data Score: 0.6029428526702008 Test Data Score: 0.6100995804809572\n",
            "alpha : 0.001, l1_ratio : 0.5 Train Data Score: 0.6046263058303194 Test Data Score: 0.6124429325293752\n"
          ]
        }
      ],
      "source": [
        "models = [ElasticNet(alpha = round(0.1**i, 3), l1_ratio=0.5) for i in np.arange(0, 4)]\n",
        "\n",
        "# models = []\n",
        "# for i in  np.arange(0, 4, 1):\n",
        "#     model = ElasticNet()\n",
        "#     model.alpha = round(0.1**i, 3)\n",
        "#     for j in np.arange(0.1, 0.9, 0.1):\n",
        "#         model.l1_ratio = round(j, 1)\n",
        "#         models.append(model)\n",
        "\n",
        "\n",
        "trained_models = [] \n",
        "\n",
        "for model in models:\n",
        "    model.fit(x_train, y_train)\n",
        "    print(f\"alpha : {model.alpha}, l1_ratio : {model.l1_ratio}\", f'Train Data Score: {model.score(x_train, y_train)}' , f'Test Data Score: {model.score(x_test, y_test)}')\n",
        "    trained_models.append(model)"
      ]
    },
    {
      "cell_type": "code",
      "execution_count": null,
      "metadata": {
        "id": "MIcsFZTtUyYy",
        "outputId": "c7e3fc43-2948-4a9e-bfcd-8c3446d32c6b"
      },
      "outputs": [
        {
          "data": {
            "text/plain": [
              "array([0.1, 0.2, 0.3, 0.4, 0.5, 0.6, 0.7, 0.8])"
            ]
          },
          "execution_count": 98,
          "metadata": {},
          "output_type": "execute_result"
        }
      ],
      "source": [
        "np.arange(0.1, 0.9, 0.1)"
      ]
    },
    {
      "cell_type": "code",
      "execution_count": null,
      "metadata": {
        "id": "NwxBxv2hUyYy",
        "outputId": "f3632b49-e930-4df6-aefc-480b806f1358"
      },
      "outputs": [
        {
          "data": {
            "text/plain": [
              "140445876448240"
            ]
          },
          "execution_count": 102,
          "metadata": {},
          "output_type": "execute_result"
        }
      ],
      "source": [
        "id(models[0])"
      ]
    },
    {
      "cell_type": "code",
      "execution_count": null,
      "metadata": {
        "id": "XBeCzi5NUyYz",
        "outputId": "7cbd4132-0b9c-4fa1-b48c-901d632bb516"
      },
      "outputs": [
        {
          "data": {
            "text/plain": [
              "140445876448240"
            ]
          },
          "execution_count": 103,
          "metadata": {},
          "output_type": "execute_result"
        }
      ],
      "source": [
        "id(models[1])"
      ]
    },
    {
      "cell_type": "code",
      "execution_count": null,
      "metadata": {
        "id": "LoGo12wcUyYz",
        "outputId": "72a7d652-1063-486a-c130-8126a4df39a4"
      },
      "outputs": [
        {
          "data": {
            "text/plain": [
              "140445876448240"
            ]
          },
          "execution_count": 105,
          "metadata": {},
          "output_type": "execute_result"
        }
      ],
      "source": [
        "id(models[7])"
      ]
    },
    {
      "cell_type": "code",
      "execution_count": null,
      "metadata": {
        "id": "quFB24EbUyYz"
      },
      "outputs": [],
      "source": []
    }
  ],
  "metadata": {
    "colab": {
      "provenance": []
    },
    "kernelspec": {
      "display_name": "Python 3",
      "language": "python",
      "name": "python3"
    },
    "language_info": {
      "codemirror_mode": {
        "name": "ipython",
        "version": 3
      },
      "file_extension": ".py",
      "mimetype": "text/x-python",
      "name": "python",
      "nbconvert_exporter": "python",
      "pygments_lexer": "ipython3",
      "version": "3.9.6 (default, Jun 13 2022, 18:55:57) \n[Clang 14.0.0 (clang-1400.0.17.3.3)]"
    },
    "vscode": {
      "interpreter": {
        "hash": "31f2aee4e71d21fbe5cf8b01ff0e069b9275f58929596ceb00d14d90e3e16cd6"
      }
    }
  },
  "nbformat": 4,
  "nbformat_minor": 0
}
