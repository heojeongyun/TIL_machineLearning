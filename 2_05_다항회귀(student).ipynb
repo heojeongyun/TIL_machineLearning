{
  "cells": [
    {
      "cell_type": "markdown",
      "metadata": {
        "id": "gjB2JdDmqJK2"
      },
      "source": [
        "# 다항 회귀 (Polynomial Regression)\n",
        "\n",
        "- 입력 데이터를 비선형 변환 후 사용하는 방법\n",
        "- 모델 자체는 선형 모델\n",
        "\n",
        "\\begin{equation}\n",
        "\\hat{y} = w_0 + w_1 x_1 + w_2 x_2 + w_3 x_3 + w_4 x_1^2 + w_5 x_2^2\n",
        "\\end{equation}\n",
        "\n",
        "- 차수가 높아질수록 더 복잡한 데이터 학습 가능"
      ]
    },
    {
      "cell_type": "markdown",
      "metadata": {
        "id": "XvvaNZ8bhRel"
      },
      "source": [
        "## 구현\n",
        "- 사이킷런은 다항회귀 api 를 제공x\n",
        "- `PolynomialFeatures` 로 피처들을 변환한뒤, `LinearRegression` 을 순차적으로 적용해야함\n",
        "- `Pipeline` 을 이용하면 두가지 api 결합을 좀더 깔끔하게 수행가능함"
      ]
    },
    {
      "cell_type": "code",
      "execution_count": 10,
      "metadata": {
        "colab": {
          "base_uri": "https://localhost:8080/"
        },
        "id": "-1sFh6mbhRem",
        "outputId": "b3e1445b-9a19-45ff-af56-cf615a327a94"
      },
      "outputs": [
        {
          "output_type": "stream",
          "name": "stdout",
          "text": [
            "(100, 1) (100,)\n"
          ]
        }
      ],
      "source": [
        "import numpy as np\n",
        "import pandas as pd\n",
        "import matplotlib.pyplot as plt\n",
        "\n",
        "np.random.seed(0)\n",
        "\n",
        "m = 100\n",
        "X = 6 * np.random.rand(m, 1) - 3\n",
        "y = X**2 + X + 1 + np.random.normal(0,1, size=(m,1))\n",
        "y = y.flatten()\n",
        "print(X.shape, y.shape)"
      ]
    },
    {
      "cell_type": "code",
      "execution_count": 12,
      "metadata": {
        "colab": {
          "base_uri": "https://localhost:8080/",
          "height": 206
        },
        "id": "7IeyPE2ZhRep",
        "outputId": "5935c085-27ff-4762-850f-1c363de1c90a"
      },
      "outputs": [
        {
          "output_type": "execute_result",
          "data": {
            "text/plain": [
              "          X         Y\n",
              "0  0.292881  0.213510\n",
              "1  1.291136  4.858995\n",
              "2  0.616580  2.462414\n",
              "3  0.269299 -0.194423\n",
              "4 -0.458071  2.240010"
            ],
            "text/html": [
              "\n",
              "  <div id=\"df-4f0bf099-ba4d-41e8-acba-5783842d1c43\">\n",
              "    <div class=\"colab-df-container\">\n",
              "      <div>\n",
              "<style scoped>\n",
              "    .dataframe tbody tr th:only-of-type {\n",
              "        vertical-align: middle;\n",
              "    }\n",
              "\n",
              "    .dataframe tbody tr th {\n",
              "        vertical-align: top;\n",
              "    }\n",
              "\n",
              "    .dataframe thead th {\n",
              "        text-align: right;\n",
              "    }\n",
              "</style>\n",
              "<table border=\"1\" class=\"dataframe\">\n",
              "  <thead>\n",
              "    <tr style=\"text-align: right;\">\n",
              "      <th></th>\n",
              "      <th>X</th>\n",
              "      <th>Y</th>\n",
              "    </tr>\n",
              "  </thead>\n",
              "  <tbody>\n",
              "    <tr>\n",
              "      <th>0</th>\n",
              "      <td>0.292881</td>\n",
              "      <td>0.213510</td>\n",
              "    </tr>\n",
              "    <tr>\n",
              "      <th>1</th>\n",
              "      <td>1.291136</td>\n",
              "      <td>4.858995</td>\n",
              "    </tr>\n",
              "    <tr>\n",
              "      <th>2</th>\n",
              "      <td>0.616580</td>\n",
              "      <td>2.462414</td>\n",
              "    </tr>\n",
              "    <tr>\n",
              "      <th>3</th>\n",
              "      <td>0.269299</td>\n",
              "      <td>-0.194423</td>\n",
              "    </tr>\n",
              "    <tr>\n",
              "      <th>4</th>\n",
              "      <td>-0.458071</td>\n",
              "      <td>2.240010</td>\n",
              "    </tr>\n",
              "  </tbody>\n",
              "</table>\n",
              "</div>\n",
              "      <button class=\"colab-df-convert\" onclick=\"convertToInteractive('df-4f0bf099-ba4d-41e8-acba-5783842d1c43')\"\n",
              "              title=\"Convert this dataframe to an interactive table.\"\n",
              "              style=\"display:none;\">\n",
              "        \n",
              "  <svg xmlns=\"http://www.w3.org/2000/svg\" height=\"24px\"viewBox=\"0 0 24 24\"\n",
              "       width=\"24px\">\n",
              "    <path d=\"M0 0h24v24H0V0z\" fill=\"none\"/>\n",
              "    <path d=\"M18.56 5.44l.94 2.06.94-2.06 2.06-.94-2.06-.94-.94-2.06-.94 2.06-2.06.94zm-11 1L8.5 8.5l.94-2.06 2.06-.94-2.06-.94L8.5 2.5l-.94 2.06-2.06.94zm10 10l.94 2.06.94-2.06 2.06-.94-2.06-.94-.94-2.06-.94 2.06-2.06.94z\"/><path d=\"M17.41 7.96l-1.37-1.37c-.4-.4-.92-.59-1.43-.59-.52 0-1.04.2-1.43.59L10.3 9.45l-7.72 7.72c-.78.78-.78 2.05 0 2.83L4 21.41c.39.39.9.59 1.41.59.51 0 1.02-.2 1.41-.59l7.78-7.78 2.81-2.81c.8-.78.8-2.07 0-2.86zM5.41 20L4 18.59l7.72-7.72 1.47 1.35L5.41 20z\"/>\n",
              "  </svg>\n",
              "      </button>\n",
              "      \n",
              "  <style>\n",
              "    .colab-df-container {\n",
              "      display:flex;\n",
              "      flex-wrap:wrap;\n",
              "      gap: 12px;\n",
              "    }\n",
              "\n",
              "    .colab-df-convert {\n",
              "      background-color: #E8F0FE;\n",
              "      border: none;\n",
              "      border-radius: 50%;\n",
              "      cursor: pointer;\n",
              "      display: none;\n",
              "      fill: #1967D2;\n",
              "      height: 32px;\n",
              "      padding: 0 0 0 0;\n",
              "      width: 32px;\n",
              "    }\n",
              "\n",
              "    .colab-df-convert:hover {\n",
              "      background-color: #E2EBFA;\n",
              "      box-shadow: 0px 1px 2px rgba(60, 64, 67, 0.3), 0px 1px 3px 1px rgba(60, 64, 67, 0.15);\n",
              "      fill: #174EA6;\n",
              "    }\n",
              "\n",
              "    [theme=dark] .colab-df-convert {\n",
              "      background-color: #3B4455;\n",
              "      fill: #D2E3FC;\n",
              "    }\n",
              "\n",
              "    [theme=dark] .colab-df-convert:hover {\n",
              "      background-color: #434B5C;\n",
              "      box-shadow: 0px 1px 3px 1px rgba(0, 0, 0, 0.15);\n",
              "      filter: drop-shadow(0px 1px 2px rgba(0, 0, 0, 0.3));\n",
              "      fill: #FFFFFF;\n",
              "    }\n",
              "  </style>\n",
              "\n",
              "      <script>\n",
              "        const buttonEl =\n",
              "          document.querySelector('#df-4f0bf099-ba4d-41e8-acba-5783842d1c43 button.colab-df-convert');\n",
              "        buttonEl.style.display =\n",
              "          google.colab.kernel.accessAllowed ? 'block' : 'none';\n",
              "\n",
              "        async function convertToInteractive(key) {\n",
              "          const element = document.querySelector('#df-4f0bf099-ba4d-41e8-acba-5783842d1c43');\n",
              "          const dataTable =\n",
              "            await google.colab.kernel.invokeFunction('convertToInteractive',\n",
              "                                                     [key], {});\n",
              "          if (!dataTable) return;\n",
              "\n",
              "          const docLinkHtml = 'Like what you see? Visit the ' +\n",
              "            '<a target=\"_blank\" href=https://colab.research.google.com/notebooks/data_table.ipynb>data table notebook</a>'\n",
              "            + ' to learn more about interactive tables.';\n",
              "          element.innerHTML = '';\n",
              "          dataTable['output_type'] = 'display_data';\n",
              "          await google.colab.output.renderOutput(dataTable, element);\n",
              "          const docLink = document.createElement('div');\n",
              "          docLink.innerHTML = docLinkHtml;\n",
              "          element.appendChild(docLink);\n",
              "        }\n",
              "      </script>\n",
              "    </div>\n",
              "  </div>\n",
              "  "
            ]
          },
          "metadata": {},
          "execution_count": 12
        }
      ],
      "source": [
        "df = pd.DataFrame({\"X\":X.flatten(), \"Y\":y})\n",
        "df.head()"
      ]
    },
    {
      "cell_type": "code",
      "execution_count": 13,
      "metadata": {
        "colab": {
          "base_uri": "https://localhost:8080/",
          "height": 374
        },
        "id": "RTAJQlwThReq",
        "outputId": "5ca230c5-0a37-435a-f966-292f20536237"
      },
      "outputs": [
        {
          "output_type": "display_data",
          "data": {
            "text/plain": [
              "<Figure size 504x432 with 1 Axes>"
            ],
            "image/png": "[encoded data removed]"
          },
          "metadata": {
            "needs_background": "light"
          }
        }
      ],
      "source": [
        "plt.figure(figsize=(7,6))\n",
        "plt.scatter(X, y, alpha=0.7)\n",
        "plt.show()"
      ]
    },
    {
      "cell_type": "markdown",
      "metadata": {
        "id": "A1Ssh42BhReq"
      },
      "source": [
        "###  Linear model 생성"
      ]
    },
    {
      "cell_type": "code",
      "execution_count": 14,
      "metadata": {
        "id": "Gbg8Eoe2hRer"
      },
      "outputs": [],
      "source": [
        "from sklearn.linear_model import LinearRegression\n",
        "from sklearn.metrics import mean_squared_error, r2_score"
      ]
    },
    {
      "cell_type": "code",
      "execution_count": 15,
      "metadata": {
        "colab": {
          "base_uri": "https://localhost:8080/"
        },
        "id": "tJsJ8y4BhRes",
        "outputId": "a26dccae-61e2-4d9e-a18a-08931126edc6"
      },
      "outputs": [
        {
          "output_type": "stream",
          "name": "stdout",
          "text": [
            "[0.78189543] 4.175619278567209\n"
          ]
        }
      ],
      "source": [
        "lr = LinearRegression()\n",
        "lr.fit(X, y)\n",
        "print(lr.coef_, lr.intercept_) # w_0, w_1"
      ]
    },
    {
      "cell_type": "code",
      "execution_count": 16,
      "metadata": {
        "id": "ISRxSkWChRet"
      },
      "outputs": [],
      "source": [
        "pred = lr.predict(X)"
      ]
    },
    {
      "cell_type": "code",
      "execution_count": 17,
      "metadata": {
        "colab": {
          "base_uri": "https://localhost:8080/",
          "height": 374
        },
        "id": "OU1DeoDyhRet",
        "outputId": "11339760-5f9a-438f-bc44-dc07fcaa640a"
      },
      "outputs": [
        {
          "output_type": "display_data",
          "data": {
            "text/plain": [
              "<Figure size 504x432 with 1 Axes>"
            ],
            "image/png": "[encoded data removed]"
          },
          "metadata": {
            "needs_background": "light"
          }
        }
      ],
      "source": [
        "X_new = np.linspace(-3,3,100).reshape(-1, 1)\n",
        "pred_new = lr.predict(X_new)\n",
        "\n",
        "plt.figure(figsize=(7,6))\n",
        "\n",
        "plt.scatter(X, y, alpha=0.7)\n",
        "plt.plot(X_new, pred_new, color='red')\n",
        "\n",
        "plt.grid(True)\n",
        "plt.show()"
      ]
    },
    {
      "cell_type": "markdown",
      "metadata": {
        "id": "uJ-2-wgEhReu"
      },
      "source": [
        "### PolynomialFeatures를 이용해 다항회귀구현"
      ]
    },
    {
      "cell_type": "code",
      "execution_count": 18,
      "metadata": {
        "id": "80t5wdAahRev"
      },
      "outputs": [],
      "source": [
        "from sklearn.preprocessing import PolynomialFeatures"
      ]
    },
    {
      "cell_type": "code",
      "execution_count": 19,
      "metadata": {
        "id": "99To2SbchRev"
      },
      "outputs": [],
      "source": [
        "poly_f = PolynomialFeatures(degree=2,\n",
        "                            include_bias=False)\n",
        "X_poly = poly_f.fit_transform(X) # 최고차수가 2차인 Data Set으로 변경"
      ]
    },
    {
      "cell_type": "code",
      "execution_count": 20,
      "metadata": {
        "colab": {
          "base_uri": "https://localhost:8080/"
        },
        "id": "Mz0DzVFjhRev",
        "outputId": "019fb9c1-f932-498f-ad49-e95c3d01a334"
      },
      "outputs": [
        {
          "output_type": "execute_result",
          "data": {
            "text/plain": [
              "((100, 1), (100, 2))"
            ]
          },
          "metadata": {},
          "execution_count": 20
        }
      ],
      "source": [
        "X.shape, X_poly.shape"
      ]
    },
    {
      "cell_type": "code",
      "execution_count": 21,
      "metadata": {
        "colab": {
          "base_uri": "https://localhost:8080/"
        },
        "id": "LmTHlEIfhRew",
        "outputId": "200d6695-7b79-43b4-9015-3891ddf0ab8c"
      },
      "outputs": [
        {
          "output_type": "execute_result",
          "data": {
            "text/plain": [
              "array([[ 0.29288102],\n",
              "       [ 1.2911362 ],\n",
              "       [ 0.61658026],\n",
              "       [ 0.2692991 ],\n",
              "       [-0.4580712 ]])"
            ]
          },
          "metadata": {},
          "execution_count": 21
        }
      ],
      "source": [
        "X[:5]"
      ]
    },
    {
      "cell_type": "code",
      "execution_count": 22,
      "metadata": {
        "colab": {
          "base_uri": "https://localhost:8080/"
        },
        "id": "D1undUP2hRew",
        "outputId": "b3b5e909-8107-497d-fa4a-496448931d90"
      },
      "outputs": [
        {
          "output_type": "execute_result",
          "data": {
            "text/plain": [
              "array([[ 0.29288102,  0.08577929],\n",
              "       [ 1.2911362 ,  1.66703268],\n",
              "       [ 0.61658026,  0.38017121],\n",
              "       [ 0.2692991 ,  0.072522  ],\n",
              "       [-0.4580712 ,  0.20982923]])"
            ]
          },
          "metadata": {},
          "execution_count": 22
        }
      ],
      "source": [
        "X_poly[:5]"
      ]
    },
    {
      "cell_type": "code",
      "execution_count": 23,
      "metadata": {
        "colab": {
          "base_uri": "https://localhost:8080/"
        },
        "id": "N8Mcp9fThRex",
        "outputId": "6d8fbf37-eec0-4407-d0da-5c9affab1749"
      },
      "outputs": [
        {
          "output_type": "execute_result",
          "data": {
            "text/plain": [
              "array(['x0', 'x0^2'], dtype=object)"
            ]
          },
          "metadata": {},
          "execution_count": 23
        }
      ],
      "source": [
        "poly_f.get_feature_names_out()#W_1 과 W_2 의 값이 결정된다. "
      ]
    },
    {
      "cell_type": "code",
      "execution_count": 24,
      "metadata": {
        "colab": {
          "base_uri": "https://localhost:8080/"
        },
        "id": "bnNw3r0fhRex",
        "outputId": "b7637956-04cb-427c-8b41-ae443fcc3521"
      },
      "outputs": [
        {
          "output_type": "stream",
          "name": "stdout",
          "text": [
            "[0.97906552 0.94978823] 1.3405007562628866\n"
          ]
        }
      ],
      "source": [
        "# 최고차항이 2차식이지만 linearregression 을 이용해 학습한다. 대신 fittransform 을 이용해 변경된 데이터를 넣어준다. \n",
        "lr2 = LinearRegression()\n",
        "lr2.fit(X_poly, y)\n",
        "print(lr2.coef_, lr2.intercept_) #W_1 과 W_2,W_0"
      ]
    },
    {
      "cell_type": "code",
      "execution_count": 25,
      "metadata": {
        "id": "qVlEMsjqhRey"
      },
      "outputs": [],
      "source": [
        "X_new = np.linspace(-3,3,100).reshape(-1, 1)\n",
        "X_new_poly = poly_f.transform(X_new)\n",
        "pred_new2 = lr2.predict(X_new_poly)"
      ]
    },
    {
      "cell_type": "code",
      "execution_count": 26,
      "metadata": {
        "colab": {
          "base_uri": "https://localhost:8080/",
          "height": 374
        },
        "id": "kfQZt0sShRey",
        "outputId": "4c9042dd-5227-4d9c-a9b8-cf736b413206"
      },
      "outputs": [
        {
          "output_type": "display_data",
          "data": {
            "text/plain": [
              "<Figure size 504x432 with 1 Axes>"
            ],
            "image/png": "[encoded data removed]"
          },
          "metadata": {
            "needs_background": "light"
          }
        }
      ],
      "source": [
        "plt.figure(figsize=(7,6))\n",
        "\n",
        "plt.scatter(X, y)\n",
        "plt.plot(X_new, pred_new2, color='red')\n",
        "plt.grid(True)\n",
        "plt.show()"
      ]
    },
    {
      "cell_type": "markdown",
      "metadata": {
        "id": "RlQU2swBhRey"
      },
      "source": [
        "### 20 차원"
      ]
    },
    {
      "cell_type": "code",
      "execution_count": 27,
      "metadata": {
        "colab": {
          "base_uri": "https://localhost:8080/"
        },
        "id": "ynCgng0WhRez",
        "outputId": "2b36fea1-df75-48fc-aab2-4a079412c99a"
      },
      "outputs": [
        {
          "output_type": "execute_result",
          "data": {
            "text/plain": [
              "((100, 20), (100, 1))"
            ]
          },
          "metadata": {},
          "execution_count": 27
        }
      ],
      "source": [
        "pnf = PolynomialFeatures(degree=20, include_bias=False)\n",
        "X_train_poly_20 = pnf.fit_transform(X)\n",
        "X_train_poly_20.shape, X.shape"
      ]
    },
    {
      "cell_type": "code",
      "execution_count": 28,
      "metadata": {
        "colab": {
          "base_uri": "https://localhost:8080/"
        },
        "id": "wqAJANHkhRez",
        "outputId": "dd6e9664-c67f-4065-dc43-3e88c312430a"
      },
      "outputs": [
        {
          "output_type": "execute_result",
          "data": {
            "text/plain": [
              "LinearRegression()"
            ]
          },
          "metadata": {},
          "execution_count": 28
        }
      ],
      "source": [
        "lr = LinearRegression()\n",
        "lr.fit(X_train_poly_20, y)"
      ]
    },
    {
      "cell_type": "code",
      "execution_count": 29,
      "metadata": {
        "id": "kfK7yJPKhRez"
      },
      "outputs": [],
      "source": [
        "X_new = np.linspace(-3,3,100).reshape(-1, 1)\n",
        "X_new_poly_20 = pnf.transform(X_new)\n",
        "pred_new_20 = lr.predict(X_new_poly_20)"
      ]
    },
    {
      "cell_type": "code",
      "execution_count": 30,
      "metadata": {
        "colab": {
          "base_uri": "https://localhost:8080/",
          "height": 374
        },
        "id": "lcIFrBNmhRe0",
        "outputId": "9bbc8221-5e69-41c1-aaf3-29370b6e1462"
      },
      "outputs": [
        {
          "output_type": "display_data",
          "data": {
            "text/plain": [
              "<Figure size 504x432 with 1 Axes>"
            ],
            "image/png": "[encoded data removed]"
          },
          "metadata": {
            "needs_background": "light"
          }
        }
      ],
      "source": [
        "plt.figure(figsize=(7,6))\n",
        "plt.scatter(X, y)\n",
        "plt.plot(X_new, pred_new_20, color='r', alpha=0.5)\n",
        "plt.show()\n",
        "# overfitting 이 일어남을 알수 있다. "
      ]
    },
    {
      "cell_type": "code",
      "execution_count": 31,
      "metadata": {
        "id": "inI7YV8thRe0"
      },
      "outputs": [],
      "source": [
        "# pipeline 생성\n",
        "from sklearn.pipeline import make_pipeline"
      ]
    },
    {
      "cell_type": "code",
      "execution_count": 32,
      "metadata": {
        "colab": {
          "base_uri": "https://localhost:8080/"
        },
        "id": "y52fxGa1hRe0",
        "outputId": "48c0279c-d8f4-4301-8b7d-8cbe99f5eb4e"
      },
      "outputs": [
        {
          "output_type": "execute_result",
          "data": {
            "text/plain": [
              "Pipeline(steps=[('polynomialfeatures', PolynomialFeatures()),\n",
              "                ('linearregression', LinearRegression())])"
            ]
          },
          "metadata": {},
          "execution_count": 32
        }
      ],
      "source": [
        "model = make_pipeline(\n",
        "    PolynomialFeatures(degree=2),\n",
        "    LinearRegression()\n",
        ")\n",
        "model"
      ]
    },
    {
      "cell_type": "code",
      "source": [
        "model.fit(X_poly, y)"
      ],
      "metadata": {
        "colab": {
          "base_uri": "https://localhost:8080/"
        },
        "id": "ZwUMk8OikY0P",
        "outputId": "3d87c139-9916-4291-fc5c-c3a92c9f7f33"
      },
      "execution_count": 33,
      "outputs": [
        {
          "output_type": "execute_result",
          "data": {
            "text/plain": [
              "Pipeline(steps=[('polynomialfeatures', PolynomialFeatures()),\n",
              "                ('linearregression', LinearRegression())])"
            ]
          },
          "metadata": {},
          "execution_count": 33
        }
      ]
    },
    {
      "cell_type": "code",
      "execution_count": 34,
      "metadata": {
        "colab": {
          "base_uri": "https://localhost:8080/",
          "height": 374
        },
        "id": "8F5RL0cnhRe0",
        "outputId": "e55dbb06-aa38-4496-f0c8-f53ae7c7d36a"
      },
      "outputs": [
        {
          "output_type": "display_data",
          "data": {
            "text/plain": [
              "<Figure size 504x432 with 1 Axes>"
            ],
            "image/png": "[encoded data removed]"
          },
          "metadata": {
            "needs_background": "light"
          }
        }
      ],
      "source": [
        "X_new = np.linspace(-3,3,100).reshape(-1, 1)\n",
        "pnf = PolynomialFeatures(degree=2, include_bias=False)\n",
        "X_new_poly = pnf.fit_transform(X_new)\n",
        "\n",
        "pred_new2 = model.predict(X_new_poly)\n",
        "\n",
        "plt.figure(figsize=(7,6))\n",
        "plt.scatter(X, y)\n",
        "plt.plot(X_new, pred_new2, color='red')\n",
        "plt.grid(True)\n",
        "plt.show()"
      ]
    },
    {
      "cell_type": "markdown",
      "metadata": {
        "id": "ApYmIcbshRe0"
      },
      "source": [
        "# 실습"
      ]
    },
    {
      "cell_type": "markdown",
      "metadata": {
        "id": "NbUZMDHcvM1V"
      },
      "source": [
        "### 보스턴 주택 가격에 대한 다항 회귀\n",
        "- 2차 회귀 다항식을 이용하여 주택값을 예측해 보자.\n",
        "- 예측후 R2 Score 를 확인해 보자"
      ]
    },
    {
      "cell_type": "code",
      "source": [
        "from sklearn.datasets import load_boston\n",
        "from sklearn.model_selection import train_test_split\n",
        "from sklearn.preprocessing import StandardScaler\n",
        "boston = load_boston()\n",
        "x_train, x_test, y_train, y_test = train_test_split(boston.data, boston.target, test_size = 0.2)"
      ],
      "metadata": {
        "colab": {
          "base_uri": "https://localhost:8080/"
        },
        "id": "lYbsv31lBuAv",
        "outputId": "204d4b1a-27f2-465d-d0a1-af50f1df1143"
      },
      "execution_count": 79,
      "outputs": [
        {
          "output_type": "stream",
          "name": "stderr",
          "text": [
            "/usr/local/lib/python3.8/dist-packages/sklearn/utils/deprecation.py:87: FutureWarning: Function load_boston is deprecated; `load_boston` is deprecated in 1.0 and will be removed in 1.2.\n",
            "\n",
            "    The Boston housing prices dataset has an ethical problem. You can refer to\n",
            "    the documentation of this function for further details.\n",
            "\n",
            "    The scikit-learn maintainers therefore strongly discourage the use of this\n",
            "    dataset unless the purpose of the code is to study and educate about\n",
            "    ethical issues in data science and machine learning.\n",
            "\n",
            "    In this special case, you can fetch the dataset from the original\n",
            "    source::\n",
            "\n",
            "        import pandas as pd\n",
            "        import numpy as np\n",
            "\n",
            "\n",
            "        data_url = \"http://lib.stat.cmu.edu/datasets/boston\"\n",
            "        raw_df = pd.read_csv(data_url, sep=\"\\s+\", skiprows=22, header=None)\n",
            "        data = np.hstack([raw_df.values[::2, :], raw_df.values[1::2, :2]])\n",
            "        target = raw_df.values[1::2, 2]\n",
            "\n",
            "    Alternative datasets include the California housing dataset (i.e.\n",
            "    :func:`~sklearn.datasets.fetch_california_housing`) and the Ames housing\n",
            "    dataset. You can load the datasets as follows::\n",
            "\n",
            "        from sklearn.datasets import fetch_california_housing\n",
            "        housing = fetch_california_housing()\n",
            "\n",
            "    for the California housing dataset and::\n",
            "\n",
            "        from sklearn.datasets import fetch_openml\n",
            "        housing = fetch_openml(name=\"house_prices\", as_frame=True)\n",
            "\n",
            "    for the Ames housing dataset.\n",
            "    \n",
            "  warnings.warn(msg, category=FutureWarning)\n"
          ]
        }
      ]
    },
    {
      "cell_type": "code",
      "source": [
        "model = make_pipeline(\n",
        "    PolynomialFeatures(degree=2),\n",
        "   # StandardScaler(),\n",
        "    LinearRegression()\n",
        ")\n",
        "\n",
        "model.fit(x_train, y_train)"
      ],
      "metadata": {
        "colab": {
          "base_uri": "https://localhost:8080/"
        },
        "id": "4t2dhGuU6yZV",
        "outputId": "ee60c007-4de7-42b7-d30b-50b3a481ae1a"
      },
      "execution_count": 82,
      "outputs": [
        {
          "output_type": "execute_result",
          "data": {
            "text/plain": [
              "Pipeline(steps=[('polynomialfeatures', PolynomialFeatures()),\n",
              "                ('linearregression', LinearRegression())])"
            ]
          },
          "metadata": {},
          "execution_count": 82
        }
      ]
    },
    {
      "cell_type": "code",
      "source": [
        "print(model.score(x_train, y_train))\n",
        "print(model.score(x_test, y_test))\n",
        "#train의경우 93퍼센트로 과적합"
      ],
      "metadata": {
        "colab": {
          "base_uri": "https://localhost:8080/"
        },
        "id": "V-6pxiUjRPH6",
        "outputId": "6bdc3c1a-e411-4828-f007-1f16eee3592b"
      },
      "execution_count": 83,
      "outputs": [
        {
          "output_type": "stream",
          "name": "stdout",
          "text": [
            "0.9390674466118757\n",
            "0.8069276096199446\n"
          ]
        }
      ]
    },
    {
      "cell_type": "markdown",
      "metadata": {
        "id": "xSoT5BRXvnDe"
      },
      "source": [
        "### 캘리포니아 주택 가격에 대한 다항 회귀"
      ]
    },
    {
      "cell_type": "code",
      "execution_count": 65,
      "metadata": {
        "id": "DyIurCC8hRe1"
      },
      "outputs": [],
      "source": [
        "from sklearn.datasets import fetch_california_housing\n",
        "california = fetch_california_housing()"
      ]
    },
    {
      "cell_type": "code",
      "source": [
        "x = california.data\n",
        "y = california.target\n",
        "poly_f = PolynomialFeatures(degree=2,include_bias=False)\n",
        "X_poly = poly_f.fit_transform(x) # 최고차수가 2차인 Data Set으로 변경\n",
        "\n",
        "print(x.shape)\n",
        "print(X_poly.shape)\n",
        "print(y.shape)"
      ],
      "metadata": {
        "colab": {
          "base_uri": "https://localhost:8080/"
        },
        "id": "K6XRvZtXGrz2",
        "outputId": "aa3e4e71-c772-44bb-eb96-ea76d8a47e6d"
      },
      "execution_count": 74,
      "outputs": [
        {
          "output_type": "stream",
          "name": "stdout",
          "text": [
            "(20640, 8)\n",
            "(20640, 44)\n",
            "(20640,)\n"
          ]
        }
      ]
    },
    {
      "cell_type": "code",
      "source": [
        "lr3.fit(X_poly, y)\n",
        "print(lr3.coef_, lr3.intercept_) #W_1 과 W_2,W_0\n",
        "#coef_=회귀계수 intercept_=절편"
      ],
      "metadata": {
        "colab": {
          "base_uri": "https://localhost:8080/"
        },
        "id": "f6DyBYXRHNg9",
        "outputId": "176e37c7-7988-4e7e-8cb6-91dbef8337c7"
      },
      "execution_count": 75,
      "outputs": [
        {
          "output_type": "stream",
          "name": "stdout",
          "text": [
            "[-1.12430252e+01 -8.48898546e-01  6.44105892e+00 -3.15913284e+01\n",
            "  4.06090349e-04  1.00386234e+00  8.70568188e+00  5.88063272e+00\n",
            " -3.13081270e-02  1.85994693e-03  4.33020464e-02 -1.86142274e-01\n",
            "  5.72831577e-05 -2.59019519e-03 -1.52505712e-01 -1.44242939e-01\n",
            "  2.11725352e-04 -1.26219016e-03  1.06115063e-02  2.81885356e-06\n",
            " -1.81716946e-03 -1.00690371e-02 -9.99950167e-03  7.26947726e-03\n",
            " -6.89064335e-02 -6.82365922e-05  2.68878842e-02  8.75089862e-02\n",
            "  8.22890330e-02  1.60180948e-01  5.14264242e-04 -8.71911483e-02\n",
            " -4.37042986e-01 -4.04150573e-01  2.73779699e-09  1.91426762e-05\n",
            "  2.29529789e-05  1.46567733e-05  8.71560978e-05  2.13344592e-02\n",
            "  1.62412938e-02  6.18867358e-02  1.08107173e-01  3.99077351e-02] 205.1232636768686\n"
          ]
        }
      ]
    },
    {
      "cell_type": "code",
      "source": [
        "y_predict = lr3.predict(X_poly)\n",
        "r2_score(y, y_predict)"
      ],
      "metadata": {
        "colab": {
          "base_uri": "https://localhost:8080/"
        },
        "id": "mKfhZbAzHjuV",
        "outputId": "a72c3759-4e8a-4148-c523-c24692d01c3f"
      },
      "execution_count": 76,
      "outputs": [
        {
          "output_type": "execute_result",
          "data": {
            "text/plain": [
              "0.6832976293317478"
            ]
          },
          "metadata": {},
          "execution_count": 76
        }
      ]
    },
    {
      "cell_type": "code",
      "source": [],
      "metadata": {
        "id": "4A4UjET0IO7F"
      },
      "execution_count": null,
      "outputs": []
    }
  ],
  "metadata": {
    "colab": {
      "provenance": []
    },
    "kernelspec": {
      "display_name": "ml",
      "language": "python",
      "name": "python3"
    },
    "language_info": {
      "codemirror_mode": {
        "name": "ipython",
        "version": 3
      },
      "file_extension": ".py",
      "mimetype": "text/x-python",
      "name": "python",
      "nbconvert_exporter": "python",
      "pygments_lexer": "ipython3",
      "version": "3.8.15 (default, Nov 24 2022, 15:19:38) \n[GCC 11.2.0]"
    },
    "vscode": {
      "interpreter": {
        "hash": "106dcd2154cfa932e62c1d0bc1ce9c27a83b078e0171c73c85fcd8f00976afbc"
      }
    }
  },
  "nbformat": 4,
  "nbformat_minor": 0
}