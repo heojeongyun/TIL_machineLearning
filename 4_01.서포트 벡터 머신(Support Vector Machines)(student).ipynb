{
 "cells": [
  {
   "cell_type": "markdown",
   "metadata": {
    "id": "g63soNOvFUSa"
   },
   "source": [
    "# 서포트 벡터 머신(Support Vector Machines)"
   ]
  },
  {
   "attachments": {},
   "cell_type": "markdown",
   "metadata": {
    "id": "Rrbp02Mk5CDA"
   },
   "source": [
    "- 회귀, 분류, 이상치 탐지 등에 사용되는 지도학습 방법\n",
    "- 클래스 사이의 경계에 위치한 데이터 포인트를 서포트 벡터(support vector)라고 한다.\n",
    "- 각 지지 벡터가 클래스 사이의 결정 경계를 구분하는데 얼마나 중요한지를 학습\n",
    "- 각 지지 벡터 사이의 마진이 가장 큰 방향으로 학습\n",
    "- 지지 벡터 까지의 거리와 지지 벡터의 중요도를 기반으로 예측을 수행\n",
    "\n",
    "![support vector machine](https://upload.wikimedia.org/wikipedia/commons/thumb/2/20/Svm_separating_hyperplanes.png/220px-Svm_separating_hyperplanes.png)\n",
    "\n",
    "- H3은 두 클래스의 점들을 제대로 분류하고 있지 않음\n",
    "- H1과 H2는 두 클래스의 점들을 분류하는데, H2가 H1보다 더 큰 마진을 갖고 분류하는 것을 확인할 수 있음"
   ]
  },
  {
   "cell_type": "code",
   "execution_count": 1,
   "metadata": {
    "executionInfo": {
     "elapsed": 317,
     "status": "ok",
     "timestamp": 1633168564916,
     "user": {
      "displayName": "박영빈",
      "photoUrl": "https://lh3.googleusercontent.com/a/default-user=s64",
      "userId": "06406289282683365716"
     },
     "user_tz": -540
    },
    "id": "zBilnkAn4_U3",
    "vscode": {
     "languageId": "python"
    }
   },
   "outputs": [
    {
     "name": "stderr",
     "output_type": "stream",
     "text": [
      "/var/folders/c2/h79928n92258kzkwtzbxjbj80000gn/T/ipykernel_61588/265178491.py:5: MatplotlibDeprecationWarning: The seaborn styles shipped by Matplotlib are deprecated since 3.6, as they no longer correspond to the styles shipped by seaborn. However, they will remain available as 'seaborn-v0_8-<style>'. Alternatively, directly use the seaborn API instead.\n",
      "  plt.style.use(['seaborn-whitegrid'])\n"
     ]
    }
   ],
   "source": [
    "import multiprocessing\n",
    "import pandas as pd\n",
    "import numpy as np\n",
    "import matplotlib.pyplot as plt\n",
    "plt.style.use(['seaborn-whitegrid'])"
   ]
  },
  {
   "cell_type": "code",
   "execution_count": 3,
   "metadata": {
    "executionInfo": {
     "elapsed": 1588,
     "status": "ok",
     "timestamp": 1633168567127,
     "user": {
      "displayName": "박영빈",
      "photoUrl": "https://lh3.googleusercontent.com/a/default-user=s64",
      "userId": "06406289282683365716"
     },
     "user_tz": -540
    },
    "id": "1YRJRPy6hTe0",
    "vscode": {
     "languageId": "python"
    }
   },
   "outputs": [],
   "source": [
    "from sklearn.svm import SVR, SVC \n",
    "from sklearn.datasets import load_diabetes\n",
    "from sklearn.datasets import load_breast_cancer, load_iris, load_wine\n",
    "from sklearn.pipeline import make_pipeline, Pipeline\n",
    "from sklearn.model_selection import train_test_split, cross_val_score, GridSearchCV, cross_validate\n",
    "from sklearn.preprocessing import StandardScaler, MinMaxScaler\n",
    "from sklearn.manifold import TSNE"
   ]
  },
  {
   "cell_type": "code",
   "execution_count": 7,
   "metadata": {
    "vscode": {
     "languageId": "python"
    }
   },
   "outputs": [
    {
     "name": "stdout",
     "output_type": "stream",
     "text": [
      "zsh:1: command not found: wget\n",
      "dict_keys(['data', 'target', 'feature_names', 'DESCR', 'filename', 'data_module'])\n",
      ".. _boston_dataset:\n",
      "\n",
      "Boston house prices dataset\n",
      "---------------------------\n",
      "\n",
      "**Data Set Characteristics:**  \n",
      "\n",
      "    :Number of Instances: 506 \n",
      "\n",
      "    :Number of Attributes: 13 numeric/categorical predictive. Median Value (attribute 14) is usually the target.\n",
      "\n",
      "    :Attribute Information (in order):\n",
      "        - CRIM     per capita crime rate by town\n",
      "        - ZN       proportion of residential land zoned for lots over 25,000 sq.ft.\n",
      "        - INDUS    proportion of non-retail business acres per town\n",
      "        - CHAS     Charles River dummy variable (= 1 if tract bounds river; 0 otherwise)\n",
      "        - NOX      nitric oxides concentration (parts per 10 million)\n",
      "        - RM       average number of rooms per dwelling\n",
      "        - AGE      proportion of owner-occupied units built prior to 1940\n",
      "        - DIS      weighted distances to five Boston employment centres\n",
      "        - RAD      index of accessibility to radial highways\n",
      "        - TAX      full-value property-tax rate per $10,000\n",
      "        - PTRATIO  pupil-teacher ratio by town\n",
      "        - B        1000(Bk - 0.63)^2 where Bk is the proportion of black people by town\n",
      "        - LSTAT    % lower status of the population\n",
      "        - MEDV     Median value of owner-occupied homes in $1000's\n",
      "\n",
      "    :Missing Attribute Values: None\n",
      "\n",
      "    :Creator: Harrison, D. and Rubinfeld, D.L.\n",
      "\n",
      "This is a copy of UCI ML housing dataset.\n",
      "https://archive.ics.uci.edu/ml/machine-learning-databases/housing/\n",
      "\n",
      "\n",
      "This dataset was taken from the StatLib library which is maintained at Carnegie Mellon University.\n",
      "\n",
      "The Boston house-price data of Harrison, D. and Rubinfeld, D.L. 'Hedonic\n",
      "prices and the demand for clean air', J. Environ. Economics & Management,\n",
      "vol.5, 81-102, 1978.   Used in Belsley, Kuh & Welsch, 'Regression diagnostics\n",
      "...', Wiley, 1980.   N.B. Various transformations are used in the table on\n",
      "pages 244-261 of the latter.\n",
      "\n",
      "The Boston house-price data has been used in many machine learning papers that address regression\n",
      "problems.   \n",
      "     \n",
      ".. topic:: References\n",
      "\n",
      "   - Belsley, Kuh & Welsch, 'Regression diagnostics: Identifying Influential Data and Sources of Collinearity', Wiley, 1980. 244-261.\n",
      "   - Quinlan,R. (1993). Combining Instance-Based and Model-Based Learning. In Proceedings on the Tenth International Conference of Machine Learning, 236-243, University of Massachusetts, Amherst. Morgan Kaufmann.\n",
      "\n"
     ]
    }
   ],
   "source": [
    "#from sklearn.datasets import load_boston\n",
    "import pickle\n",
    "\n",
    "!wget https://raw.githubusercontent.com/myoh0623/dataset/main/boston.pickle\n",
    "\n",
    "with open('./boston.pickle', 'rb') as f:\n",
    "    boston = pickle.load(f)\n",
    "\n",
    "print(boston.keys())\n",
    "print(boston.DESCR)"
   ]
  },
  {
   "cell_type": "markdown",
   "metadata": {
    "id": "UxS0mPsCh4l0"
   },
   "source": [
    "## SVM을 이용한 회귀 모델과 분류 모델"
   ]
  },
  {
   "cell_type": "markdown",
   "metadata": {
    "id": "NTtcx3p8wtNX"
   },
   "source": [
    "### SVM을 사용한 회귀 모델 (SVR)"
   ]
  },
  {
   "cell_type": "code",
   "execution_count": 10,
   "metadata": {
    "colab": {
     "base_uri": "https://localhost:8080/"
    },
    "executionInfo": {
     "elapsed": 64,
     "status": "ok",
     "timestamp": 1633168567132,
     "user": {
      "displayName": "박영빈",
      "photoUrl": "https://lh3.googleusercontent.com/a/default-user=s64",
      "userId": "06406289282683365716"
     },
     "user_tz": -540
    },
    "id": "sCrhSrMf5BqB",
    "outputId": "1b34b781-157d-469a-e09e-22b7965b4f59",
    "vscode": {
     "languageId": "python"
    }
   },
   "outputs": [
    {
     "name": "stdout",
     "output_type": "stream",
     "text": [
      "Train Data Score: 0.2177283706374875\n",
      "Test Data Score: 0.13544178468518187\n"
     ]
    }
   ],
   "source": [
    "x = boston.data\n",
    "y = boston.target\n",
    "x_train, x_test, y_train, y_test = train_test_split(x, y, random_state=123)\n",
    "\n",
    "model = SVR()\n",
    "model.fit(x_train, y_train)\n",
    "\n",
    "print(f'Train Data Score: {model.score(x_train, y_train)}')\n",
    "print(f'Test Data Score: {model.score(x_test, y_test)}')"
   ]
  },
  {
   "cell_type": "markdown",
   "metadata": {
    "id": "CQraX6MzwvtE"
   },
   "source": [
    "### SVM을 사용한 분류 모델 (SVC)"
   ]
  },
  {
   "cell_type": "code",
   "execution_count": 11,
   "metadata": {
    "colab": {
     "base_uri": "https://localhost:8080/"
    },
    "executionInfo": {
     "elapsed": 38,
     "status": "ok",
     "timestamp": 1633168567134,
     "user": {
      "displayName": "박영빈",
      "photoUrl": "https://lh3.googleusercontent.com/a/default-user=s64",
      "userId": "06406289282683365716"
     },
     "user_tz": -540
    },
    "id": "bnh5fS8gFbtK",
    "outputId": "b46bf5a9-97dc-4b7d-9b65-55886fae134b",
    "vscode": {
     "languageId": "python"
    }
   },
   "outputs": [
    {
     "name": "stdout",
     "output_type": "stream",
     "text": [
      "Train Data Score: 0.9014084507042254\n",
      "Test Data Score: 0.9230769230769231\n"
     ]
    }
   ],
   "source": [
    "x, y = load_breast_cancer(return_X_y=True)\n",
    "x_train, x_test, y_train, y_test = train_test_split(x, y, random_state=123)\n",
    "\n",
    "model = SVC()\n",
    "model.fit(x_train, y_train)\n",
    "\n",
    "print(f'Train Data Score: {model.score(x_train, y_train)}')\n",
    "print(f'Test Data Score: {model.score(x_test, y_test)}')"
   ]
  },
  {
   "attachments": {},
   "cell_type": "markdown",
   "metadata": {
    "id": "zgd_dvKrGeFh"
   },
   "source": [
    "## 커널 기법\n",
    "\n",
    "- 입력 데이터를 고차원 공간에 사상해서 비선형 특징을 학습할 수 있도록 확장하는 방법\n",
    "- scikit-learn에서는 Linear, Polynomial, RBF(Radial Basis Function)등 다양한 커널 기법을 지원"
   ]
  },
  {
   "cell_type": "code",
   "execution_count": 12,
   "metadata": {
    "vscode": {
     "languageId": "python"
    }
   },
   "outputs": [],
   "source": [
    "# load_boston 보스턴 집값"
   ]
  },
  {
   "cell_type": "code",
   "execution_count": 13,
   "metadata": {
    "colab": {
     "base_uri": "https://localhost:8080/"
    },
    "executionInfo": {
     "elapsed": 5441,
     "status": "ok",
     "timestamp": 1633168572554,
     "user": {
      "displayName": "박영빈",
      "photoUrl": "https://lh3.googleusercontent.com/a/default-user=s64",
      "userId": "06406289282683365716"
     },
     "user_tz": -540
    },
    "id": "Azq1UJtZF8sU",
    "outputId": "9972615e-868f-4ab1-d1a6-43bd463f6f12",
    "vscode": {
     "languageId": "python"
    }
   },
   "outputs": [
    {
     "name": "stdout",
     "output_type": "stream",
     "text": [
      "Linear SVR Train Data Score: 0.7155065522120606\n",
      "Linear SVR Test Data Score: 0.638039631835579\n",
      "Polynomial SVR  Train Data Score: 0.2024454261446288\n",
      "Polynomial SVR Test Data Score: 0.13366845036746255\n",
      "RBF SVR Train Data Score: 0.2177283706374875\n",
      "RBF SVR Test Data Score: 0.13544178468518187\n"
     ]
    }
   ],
   "source": [
    "x = boston.data\n",
    "y = boston.target\n",
    "x_train, x_test, y_train, y_test = train_test_split(x, y, random_state=123)\n",
    "\n",
    "linear_svr = SVR(kernel = 'linear')\n",
    "linear_svr.fit(x_train, y_train)\n",
    "\n",
    "print(f'Linear SVR Train Data Score: {linear_svr.score(x_train, y_train)}')\n",
    "print(f'Linear SVR Test Data Score: {linear_svr.score(x_test, y_test)}')\n",
    "\n",
    "polynomial_svr = SVR(kernel = 'poly')\n",
    "polynomial_svr.fit(x_train, y_train)\n",
    "\n",
    "print(f'Polynomial SVR  Train Data Score: {polynomial_svr.score(x_train, y_train)}')\n",
    "print(f'Polynomial SVR Test Data Score: {polynomial_svr.score(x_test, y_test)}')\n",
    "\n",
    "rbf_svr = SVR(kernel = 'rbf')\n",
    "rbf_svr.fit(x_train, y_train)\n",
    "\n",
    "print(f'RBF SVR Train Data Score: {rbf_svr.score(x_train, y_train)}')\n",
    "print(f'RBF SVR Test Data Score: {rbf_svr.score(x_test, y_test)}')"
   ]
  },
  {
   "cell_type": "code",
   "execution_count": 14,
   "metadata": {
    "vscode": {
     "languageId": "python"
    }
   },
   "outputs": [
    {
     "name": "stdout",
     "output_type": "stream",
     "text": [
      "Linear SVR Train Data Score: 0.29804873795549414\n",
      "Linear SVR Test Data Score: 0.13907362733287165\n",
      "Polynomial SVR  Train Data Score: 0.5492121168675737\n",
      "Polynomial SVR Test Data Score: 0.33076721394141473\n",
      "RBF SVR Train Data Score: 0.7141833202421759\n",
      "RBF SVR Test Data Score: 0.7625209396028005\n"
     ]
    }
   ],
   "source": [
    "# 유방암 데이터를 이용한 분류\n",
    "# - 각 커널별로 유방암 데이터를 분류해보자. \n",
    "\n",
    "x, y = load_breast_cancer(return_X_y=True)\n",
    "x_train, x_test, y_train, y_test = train_test_split(x, y, random_state=123)\n",
    "\n",
    "linear_svr = SVR(kernel = 'linear')\n",
    "linear_svr.fit(x_train, y_train)\n",
    "\n",
    "print(f'Linear SVR Train Data Score: {linear_svr.score(x_train, y_train)}')\n",
    "print(f'Linear SVR Test Data Score: {linear_svr.score(x_test, y_test)}')\n",
    "\n",
    "polynomial_svr = SVR(kernel = 'poly')\n",
    "polynomial_svr.fit(x_train, y_train)\n",
    "\n",
    "print(f'Polynomial SVR  Train Data Score: {polynomial_svr.score(x_train, y_train)}')\n",
    "print(f'Polynomial SVR Test Data Score: {polynomial_svr.score(x_test, y_test)}')\n",
    "\n",
    "rbf_svr = SVR(kernel = 'rbf')\n",
    "rbf_svr.fit(x_train, y_train)\n",
    "\n",
    "print(f'RBF SVR Train Data Score: {rbf_svr.score(x_train, y_train)}')\n",
    "print(f'RBF SVR Test Data Score: {rbf_svr.score(x_test, y_test)}')\n"
   ]
  },
  {
   "attachments": {},
   "cell_type": "markdown",
   "metadata": {
    "id": "ysbUu5o3Lm2V"
   },
   "source": [
    "## 매개변수 튜닝\n",
    "\n",
    "- SVM은 사용하는 커널에 따라 다양한 매개변수 설정 가능\n",
    "- 매개변수를 변경하면서 성능변화를 관찰\n",
    "\n",
    " - C는 얼마나 많은 데이터 샘플이 다른 클래스에 놓이는 것을 허용하는지를 결정\n",
    "  - 작을 수록 많이 허용하고, 클 수록 적게 허용한다.\n",
    "  -  C값을 낮게 설정하면 이상치들이 있을 가능성을 크게 잡아 일반적인 결정 경계를 찾아내고, 높게 설정하면 반대로 이상치의 존재 가능성을 작게 봐서 좀 더 세심하게 결정 경계를 찾아낸다.\n",
    "\n",
    "  - [참고](https://bskyvision.com/entry/%EC%84%9C%ED%8F%AC%ED%8A%B8-%EB%B2%A1%ED%84%B0-%EB%A8%B8%EC%8B%A0SVM%EC%9D%98-%EC%82%AC%EC%9A%A9%EC%9E%90%EB%A1%9C%EC%84%9C-%EA%BC%AD-%EC%95%8C%EC%95%84%EC%95%BC%ED%95%A0-%EA%B2%83%EB%93%A4-%EB%A7%A4%EA%B0%9C%EB%B3%80%EC%88%98-C%EC%99%80-gamma)\n",
    "\n",
    "\n",
    "|파라미터|default\t| 설명|\n",
    "|-------|-------|-------|\n",
    "|C\t|1.0|\t오류를 얼마나 허용할 것인지 (규제항) 클수록 하드마진, 작을수록 소프트마진에 가까움|\n",
    "|kernel\t|'rbf' (가우시안 커널)| 'linear', 'poly', 'rbf', 'sigmoid', 'precomputed'|\n",
    "|degree\t| 3| \t다항식 커널의 차수 결정 |\n",
    "|gamma\t|'scale'|\t결정경계를 얼마나 유연하게 그릴지 결정 클수록 오버피팅 발생 가능성 높아짐|\n",
    "|coef0\t|0.0\t|다항식 커널에 있는 상수항 r"
   ]
  },
  {
   "cell_type": "markdown",
   "metadata": {},
   "source": []
  },
  {
   "cell_type": "code",
   "execution_count": 15,
   "metadata": {
    "executionInfo": {
     "elapsed": 11,
     "status": "ok",
     "timestamp": 1633168573401,
     "user": {
      "displayName": "박영빈",
      "photoUrl": "https://lh3.googleusercontent.com/a/default-user=s64",
      "userId": "06406289282683365716"
     },
     "user_tz": -540
    },
    "id": "JyCxM4abOZyO",
    "vscode": {
     "languageId": "python"
    }
   },
   "outputs": [],
   "source": [
    "x, y = load_breast_cancer(return_X_y=True)\n",
    "x_train, x_test, y_train, y_test = train_test_split(x, y, random_state=123)"
   ]
  },
  {
   "cell_type": "code",
   "execution_count": null,
   "metadata": {
    "colab": {
     "base_uri": "https://localhost:8080/"
    },
    "executionInfo": {
     "elapsed": 29122,
     "status": "ok",
     "timestamp": 1633168602514,
     "user": {
      "displayName": "박영빈",
      "photoUrl": "https://lh3.googleusercontent.com/a/default-user=s64",
      "userId": "06406289282683365716"
     },
     "user_tz": -540
    },
    "id": "QN4BSxiaJspb",
    "outputId": "a129eb07-11f3-43e4-c361-27745dc1ccee",
    "vscode": {
     "languageId": "python"
    }
   },
   "outputs": [],
   "source": [
    "polynomial_svc = SVC(kernel = 'poly', degree=2, C=0.1, gamma='auto')\n",
    "polynomial_svc.fit(x_train, y_train)\n",
    "\n",
    "print(f'kernel=ploy, degree={2}, C={0.1}, gamma={\"auto\"}')\n",
    "print(f'Polynomial SVC Train Data Score: {polynomial_svc.score(x_train, y_train)}')\n",
    "print(f'Polynomial SVC Test Data Score: {polynomial_svc.score(x_test, y_test)}')"
   ]
  },
  {
   "cell_type": "code",
   "execution_count": 10,
   "metadata": {
    "colab": {
     "base_uri": "https://localhost:8080/"
    },
    "executionInfo": {
     "elapsed": 69,
     "status": "ok",
     "timestamp": 1633168602516,
     "user": {
      "displayName": "박영빈",
      "photoUrl": "https://lh3.googleusercontent.com/a/default-user=s64",
      "userId": "06406289282683365716"
     },
     "user_tz": -540
    },
    "id": "P7hOhO1oOvVC",
    "outputId": "7311d81f-5940-42c2-8440-a6ff6d06da81",
    "vscode": {
     "languageId": "python"
    }
   },
   "outputs": [
    {
     "name": "stdout",
     "output_type": "stream",
     "text": [
      "kernel=ploy, C=2.0, gamma=scale\n",
      "RBF SVC 학습 데이터 평가: 0.9154929577464789\n",
      "RBF SVC 평가 데이터 평가: 0.9370629370629371\n"
     ]
    }
   ],
   "source": [
    "rbf_svc = SVC(kernel = 'rbf', C=2.0, gamma='scale')\n",
    "rbf_svc.fit(x_train, y_train)\n",
    "\n",
    "print(f'kernel=ploy, C={2.0}, gamma={'scale'}')\n",
    "print(f'RBF SVC Train Data Score: {rbf_svc.score(x_train, y_train)}')\n",
    "print(f'RBF SVC Test Data Score: {rbf_svc.score(x_test, y_test)}')"
   ]
  },
  {
   "attachments": {},
   "cell_type": "markdown",
   "metadata": {
    "id": "aEQL8h8WU0An"
   },
   "source": [
    "## 데이터 전처리\n",
    "\n",
    "- SVM은 입력 데이터가 정규화 되어야 좋은 성능을 보임\n",
    "- 주로 모든 특성 값을 [0, 1] 범위로 맞추는 방법을 사용\n",
    "- scikit-learn의 StandardScaler 또는 MinMaxScaler를 사용해 정규화"
   ]
  },
  {
   "cell_type": "code",
   "execution_count": 16,
   "metadata": {
    "vscode": {
     "languageId": "python"
    }
   },
   "outputs": [
    {
     "name": "stdout",
     "output_type": "stream",
     "text": [
      "Train Data Score: 0.9014084507042254\n",
      "Test Data Score: 0.9230769230769231\n"
     ]
    }
   ],
   "source": [
    "# 예 load_breast_cancer 데이터를 StandardScaler 를 이용해 정규화 하고 학습시켜보자\n",
    "x, y = load_breast_cancer(return_X_y=True)\n",
    "x_train, x_test, y_train, y_test = train_test_split(x, y, random_state=123)\n",
    "\n",
    "model = SVC()\n",
    "\n",
    "# - Score 는?\n",
    "\n",
    "#그냥 학습\n",
    "model.fit(x_train, y_train)\n",
    "\n",
    "print(f'Train Data Score: {model.score(x_train, y_train)}')\n",
    "print(f'Test Data Score: {model.score(x_test, y_test)}')"
   ]
  },
  {
   "cell_type": "code",
   "execution_count": 18,
   "metadata": {
    "vscode": {
     "languageId": "python"
    }
   },
   "outputs": [
    {
     "name": "stdout",
     "output_type": "stream",
     "text": [
      "Train Data Score: 0.9835680751173709\n",
      "Test Data Score: 0.986013986013986\n"
     ]
    }
   ],
   "source": [
    "#Standarescaler로 학습\n",
    "from sklearn.preprocessing import StandardScaler\n",
    "scaler = StandardScaler()\n",
    "\n",
    "x_train_sc = scaler.fit_transform(x_train) # numpy 형태로 반환\n",
    "x_test_sc = scaler.fit_transform(x_test)\n",
    "\n",
    "model.fit(x_train_sc, y_train)\n",
    "print(f'Train Data Score: {model.score(x_train_sc, y_train)}')\n",
    "print(f'Test Data Score: {model.score(x_test_sc, y_test)}')\n",
    "#훨씬 점수가 좋아졌다"
   ]
  },
  {
   "cell_type": "code",
   "execution_count": 21,
   "metadata": {
    "vscode": {
     "languageId": "python"
    }
   },
   "outputs": [
    {
     "name": "stdout",
     "output_type": "stream",
     "text": [
      "Train Data Score: 0.9812206572769953\n",
      "Test Data Score: 0.9300699300699301\n"
     ]
    }
   ],
   "source": [
    "#MinmaxScaler로 학습\n",
    "from sklearn.preprocessing import MinMaxScaler\n",
    "Mnscaler = MinMaxScaler()\n",
    "\n",
    "x_train_mn = Mnscaler.fit_transform(x_train) # numpy 형태로 반환\n",
    "x_test_mn = Mnscaler.fit_transform(x_test)\n",
    "\n",
    "model.fit(x_train_mn, y_train)\n",
    "print(f'Train Data Score: {model.score(x_train_mn, y_train)}')\n",
    "print(f'Test Data Score: {model.score(x_test_mn, y_test)}')"
   ]
  },
  {
   "cell_type": "code",
   "execution_count": null,
   "metadata": {
    "vscode": {
     "languageId": "python"
    }
   },
   "outputs": [],
   "source": []
  }
 ],
 "metadata": {
  "colab": {
   "collapsed_sections": [],
   "name": "5 서포트 벡터 머신(Support Vector Machines).ipynb",
   "provenance": [
    {
     "file_id": "1tTbmeS0Bp0_NkFDsT1DvwvnRjkZUY9Yz",
     "timestamp": 1632747262302
    }
   ]
  },
  "kernelspec": {
   "display_name": "ml",
   "language": "python",
   "name": "ml"
  },
  "vscode": {
   "interpreter": {
    "hash": "31f2aee4e71d21fbe5cf8b01ff0e069b9275f58929596ceb00d14d90e3e16cd6"
   }
  }
 },
 "nbformat": 4,
 "nbformat_minor": 4
}
