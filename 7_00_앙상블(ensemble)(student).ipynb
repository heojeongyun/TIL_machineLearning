{
  "cells": [
    {
      "cell_type": "markdown",
      "metadata": {
        "id": "b2MQEkXAYQeB"
      },
      "source": [
        "# 앙상블(Ensemble)"
      ]
    },
    {
      "cell_type": "markdown",
      "metadata": {
        "id": "nT_iMqd0do5N"
      },
      "source": [
        "## Bagging meta-estimator"
      ]
    },
    {
      "cell_type": "code",
      "execution_count": null,
      "metadata": {
        "id": "g3hMGq9aXZ5v"
      },
      "outputs": [],
      "source": [
        "import warnings\n",
        "warnings.filterwarnings(\"ignore\")"
      ]
    },
    {
      "cell_type": "code",
      "execution_count": null,
      "metadata": {
        "id": "DeBq-DEl4Mxc"
      },
      "outputs": [],
      "source": [
        "from sklearn.datasets import load_iris, load_wine, load_breast_cancer, load_boston\n",
        "from sklearn.datasets import load_diabetes\n",
        "from sklearn.preprocessing import StandardScaler\n",
        "from sklearn.pipeline import make_pipeline\n",
        "from sklearn.model_selection import cross_validate"
      ]
    },
    {
      "cell_type": "code",
      "execution_count": null,
      "metadata": {
        "id": "_YiLsIpwMGAf"
      },
      "outputs": [],
      "source": [
        "from sklearn.ensemble import BaggingClassifier\n",
        "from sklearn.neighbors import KNeighborsClassifier\n",
        "from sklearn.svm import SVC\n",
        "from sklearn.tree import DecisionTreeClassifier"
      ]
    },
    {
      "cell_type": "code",
      "execution_count": null,
      "metadata": {
        "id": "sJK4QMLlYN3G"
      },
      "outputs": [],
      "source": [
        "from sklearn.ensemble import BaggingRegressor\n",
        "from sklearn.neighbors import KNeighborsRegressor\n",
        "from sklearn.svm import SVR\n",
        "from sklearn.tree import DecisionTreeRegressor"
      ]
    },
    {
      "cell_type": "markdown",
      "metadata": {
        "id": "bnC_CfiDf3kC"
      },
      "source": [
        "### Bagging을 사용한 분류"
      ]
    },
    {
      "cell_type": "markdown",
      "metadata": {
        "id": "WWm5Uuk2XZ5y"
      },
      "source": [
        "```\n",
        "hp = {\n",
        "    \"random_state\" : SEED,\n",
        "    \"base_estimator\" : base_model, #basse로 사용할 Model \n",
        "    \"n_estimators\": 100, # base_estimator  개수\n",
        "    \"max_features\":0.5 # 추출할 샘플 비율,\n",
        "    \"bootstrap_features\": Flase # 중복추출 허용\n",
        "}\n",
        "```"
      ]
    },
    {
      "cell_type": "markdown",
      "metadata": {
        "id": "yw2FY84r4zQR"
      },
      "source": [
        "#### 데이터셋 불러오기"
      ]
    },
    {
      "cell_type": "code",
      "execution_count": null,
      "metadata": {
        "id": "6DlynlPmf-3Y"
      },
      "outputs": [],
      "source": [
        "iris = load_iris()\n",
        "wine = load_wine()\n",
        "cancer = load_breast_cancer()"
      ]
    },
    {
      "cell_type": "markdown",
      "metadata": {
        "id": "9XzfsGdL4_YF"
      },
      "source": [
        "#### KNN + Bagging"
      ]
    },
    {
      "cell_type": "markdown",
      "metadata": {
        "id": "h5TYJLtQ8k70"
      },
      "source": [
        "##### 붓꽃 데이터"
      ]
    },
    {
      "cell_type": "code",
      "execution_count": null,
      "metadata": {
        "id": "H3iZQyWnOZEK"
      },
      "outputs": [],
      "source": [
        "base_model = make_pipeline(\n",
        "    StandardScaler(),\n",
        "    KNeighborsClassifier()\n",
        ")\n",
        "\n",
        "bagging_model = BaggingClassifier(base_model, n_estimators=10, max_samples=.5, max_features=.5)"
      ]
    },
    {
      "cell_type": "code",
      "execution_count": null,
      "metadata": {
        "colab": {
          "base_uri": "https://localhost:8080/"
        },
        "id": "m-fGDZoD52eY",
        "outputId": "bb38781b-4923-41e0-b6d5-e5e9ddeabe04"
      },
      "outputs": [
        {
          "output_type": "stream",
          "name": "stdout",
          "text": [
            "avg fit time: 0.001348876953125\n",
            "avg score time: 0.002493000030517578\n",
            "avg test score: 0.96\n"
          ]
        }
      ],
      "source": [
        "cross_val = cross_validate(\n",
        "    estimator = base_model,\n",
        "    X=iris.data, y = iris.target,\n",
        "    cv=5\n",
        ")\n",
        "print(f\"avg fit time: {cross_val['fit_time'].mean()}\")\n",
        "print(f\"avg score time: {cross_val['score_time'].mean()}\")\n",
        "print(f\"avg test score: {cross_val['test_score'].mean()}\")"
      ]
    },
    {
      "cell_type": "code",
      "execution_count": null,
      "metadata": {
        "colab": {
          "base_uri": "https://localhost:8080/"
        },
        "id": "j8UhV67NgiC0",
        "outputId": "bf0f05c3-51a3-4040-abd4-59bf5d6a89ff"
      },
      "outputs": [
        {
          "output_type": "stream",
          "name": "stdout",
          "text": [
            "avg fit time: 0.01718592643737793\n",
            "avg score time: 0.0055214881896972655\n",
            "avg test score: 0.96\n"
          ]
        }
      ],
      "source": [
        "cross_val = cross_validate(\n",
        "    estimator = bagging_model,\n",
        "    X=iris.data, y = iris.target,\n",
        "    cv=5\n",
        ")\n",
        "print(f\"avg fit time: {cross_val['fit_time'].mean()}\")\n",
        "print(f\"avg score time: {cross_val['score_time'].mean()}\")\n",
        "print(f\"avg test score: {cross_val['test_score'].mean()}\")"
      ]
    },
    {
      "cell_type": "markdown",
      "metadata": {
        "id": "aake5r8-_FLh"
      },
      "source": [
        "##### 와인 데이터"
      ]
    },
    {
      "cell_type": "code",
      "execution_count": null,
      "metadata": {
        "colab": {
          "base_uri": "https://localhost:8080/"
        },
        "id": "J0QFH1OcXZ51",
        "outputId": "04741b34-71e3-4c8e-bf50-62a2a5c672a5"
      },
      "outputs": [
        {
          "output_type": "stream",
          "name": "stdout",
          "text": [
            "avg fit time: 0.0013541698455810547\n",
            "avg score time: 0.002776956558227539\n",
            "avg test score: 0.9493650793650794\n"
          ]
        }
      ],
      "source": [
        "cross_val = cross_validate(\n",
        "    estimator = base_model,\n",
        "    X=wine.data, y = wine.target,\n",
        "    cv=5\n",
        ")\n",
        "print(f\"avg fit time: {cross_val['fit_time'].mean()}\")\n",
        "print(f\"avg score time: {cross_val['score_time'].mean()}\")\n",
        "print(f\"avg test score: {cross_val['test_score'].mean()}\")"
      ]
    },
    {
      "cell_type": "code",
      "source": [
        "cross_val = cross_validate(\n",
        "    estimator = bagging_model,\n",
        "    X=wine.data, y = wine.target,\n",
        "    cv=5\n",
        ")\n",
        "print(f\"avg fit time: {cross_val['fit_time'].mean()}\")\n",
        "print(f\"avg score time: {cross_val['score_time'].mean()}\")\n",
        "print(f\"avg test score: {cross_val['test_score'].mean()}\")"
      ],
      "metadata": {
        "colab": {
          "base_uri": "https://localhost:8080/"
        },
        "id": "Bzjo3WfIX2RT",
        "outputId": "e3c63eac-28a9-4cbd-aa78-85d1714cd7c5"
      },
      "execution_count": null,
      "outputs": [
        {
          "output_type": "stream",
          "name": "stdout",
          "text": [
            "avg fit time: 0.017137765884399414\n",
            "avg score time: 0.005670499801635742\n",
            "avg test score: 0.9552380952380952\n"
          ]
        }
      ]
    },
    {
      "cell_type": "markdown",
      "metadata": {
        "id": "iPKP6KIy8nso"
      },
      "source": [
        "##### 유방암 데이터"
      ]
    },
    {
      "cell_type": "code",
      "execution_count": null,
      "metadata": {
        "colab": {
          "base_uri": "https://localhost:8080/"
        },
        "id": "AyBrlQjsXZ51",
        "outputId": "4e314308-25bd-4898-a4c8-427f665cc18a"
      },
      "outputs": [
        {
          "output_type": "stream",
          "name": "stdout",
          "text": [
            "avg fit time: 0.0014028072357177735\n",
            "avg score time: 0.007619190216064453\n",
            "avg test score: 0.9648501785437045\n"
          ]
        }
      ],
      "source": [
        "cross_val = cross_validate(\n",
        "    estimator = base_model,\n",
        "    X=cancer.data, y = cancer.target,\n",
        "    cv=5\n",
        ")\n",
        "print(f\"avg fit time: {cross_val['fit_time'].mean()}\")\n",
        "print(f\"avg score time: {cross_val['score_time'].mean()}\")\n",
        "print(f\"avg test score: {cross_val['test_score'].mean()}\")"
      ]
    },
    {
      "cell_type": "code",
      "source": [
        "cross_val = cross_validate(\n",
        "    estimator = bagging_model,\n",
        "    X=cancer.data, y = cancer.target,\n",
        "    cv=5\n",
        ")\n",
        "print(f\"avg fit time: {cross_val['fit_time'].mean()}\")\n",
        "print(f\"avg score time: {cross_val['score_time'].mean()}\")\n",
        "print(f\"avg test score: {cross_val['test_score'].mean()}\")"
      ],
      "metadata": {
        "colab": {
          "base_uri": "https://localhost:8080/"
        },
        "id": "cfiKMwHpYF8r",
        "outputId": "987b1a1e-1bb2-417b-a0c7-a1b2e841e037"
      },
      "execution_count": null,
      "outputs": [
        {
          "output_type": "stream",
          "name": "stdout",
          "text": [
            "avg fit time: 0.018460512161254883\n",
            "avg score time: 0.010894680023193359\n",
            "avg test score: 0.9596025461884802\n"
          ]
        }
      ]
    },
    {
      "cell_type": "markdown",
      "metadata": {
        "id": "c6cXnxEZ90NR"
      },
      "source": [
        "#### SVC + Bagging"
      ]
    },
    {
      "cell_type": "markdown",
      "metadata": {
        "id": "yFolvlY393Pv"
      },
      "source": [
        "##### 붓꽃 데이터"
      ]
    },
    {
      "cell_type": "code",
      "execution_count": null,
      "metadata": {
        "id": "p8sUZEe798Wn"
      },
      "outputs": [],
      "source": [
        "base_model = make_pipeline(\n",
        "    StandardScaler(),\n",
        "    SVC()\n",
        ")\n",
        "\n",
        "bagging_model = BaggingClassifier(base_model, n_estimators=10, max_samples=.5, max_features=.5)"
      ]
    },
    {
      "cell_type": "code",
      "execution_count": null,
      "metadata": {
        "colab": {
          "base_uri": "https://localhost:8080/"
        },
        "id": "1vvBGk8WQVho",
        "outputId": "8609ee15-b42c-48fd-b007-e340c1dfd017"
      },
      "outputs": [
        {
          "output_type": "stream",
          "name": "stdout",
          "text": [
            "avg fit time: 0.0015039443969726562\n",
            "avg score time: 0.0004768848419189453\n",
            "avg test score: 0.9666666666666666\n"
          ]
        }
      ],
      "source": [
        "cross_val = cross_validate(\n",
        "    estimator = base_model,\n",
        "    X=iris.data, y = iris.target,\n",
        "    cv=5\n",
        ")\n",
        "print(f\"avg fit time: {cross_val['fit_time'].mean()}\")\n",
        "print(f\"avg score time: {cross_val['score_time'].mean()}\")\n",
        "print(f\"avg test score: {cross_val['test_score'].mean()}\")"
      ]
    },
    {
      "cell_type": "code",
      "execution_count": null,
      "metadata": {
        "colab": {
          "base_uri": "https://localhost:8080/"
        },
        "id": "f2MTk_xcQVh0",
        "outputId": "a3da5462-a59d-4fc8-81eb-4f0c81b4f620"
      },
      "outputs": [
        {
          "output_type": "stream",
          "name": "stdout",
          "text": [
            "avg fit time: 0.024779844284057616\n",
            "avg score time: 0.0034014701843261717\n",
            "avg test score: 0.9466666666666667\n"
          ]
        }
      ],
      "source": [
        "\n",
        "cross_val = cross_validate(\n",
        "    estimator = bagging_model,\n",
        "    X=iris.data, y = iris.target,\n",
        "    cv=5\n",
        ")\n",
        "print(f\"avg fit time: {cross_val['fit_time'].mean()}\")\n",
        "print(f\"avg score time: {cross_val['score_time'].mean()}\")\n",
        "print(f\"avg test score: {cross_val['test_score'].mean()}\")"
      ]
    },
    {
      "cell_type": "markdown",
      "metadata": {
        "id": "BAVcL_DG_HgP"
      },
      "source": [
        "##### 와인 데이터"
      ]
    },
    {
      "cell_type": "code",
      "execution_count": null,
      "metadata": {
        "colab": {
          "base_uri": "https://localhost:8080/"
        },
        "id": "fNzUdmDqXZ53",
        "outputId": "13025c95-e863-4d21-8cd1-e354b8a2e3ba"
      },
      "outputs": [
        {
          "output_type": "stream",
          "name": "stdout",
          "text": [
            "avg fit time: 0.0021590232849121095\n",
            "avg score time: 0.0005911350250244141\n",
            "avg test score: 0.9833333333333334\n"
          ]
        }
      ],
      "source": [
        "cross_val = cross_validate(\n",
        "    estimator = base_model,\n",
        "    X=wine.data, y = wine.target,\n",
        "    cv=5\n",
        ")\n",
        "print(f\"avg fit time: {cross_val['fit_time'].mean()}\")\n",
        "print(f\"avg score time: {cross_val['score_time'].mean()}\")\n",
        "print(f\"avg test score: {cross_val['test_score'].mean()}\")"
      ]
    },
    {
      "cell_type": "code",
      "source": [
        "cross_val = cross_validate(\n",
        "    estimator = bagging_model,\n",
        "    X=wine.data, y = wine.target,\n",
        "    cv=5\n",
        ")\n",
        "print(f\"avg fit time: {cross_val['fit_time'].mean()}\")\n",
        "print(f\"avg score time: {cross_val['score_time'].mean()}\")\n",
        "print(f\"avg test score: {cross_val['test_score'].mean()}\")"
      ],
      "metadata": {
        "colab": {
          "base_uri": "https://localhost:8080/"
        },
        "id": "sIDPSpDqaFaQ",
        "outputId": "7d6ed596-9156-42c0-8466-9851d8366fa9"
      },
      "execution_count": null,
      "outputs": [
        {
          "output_type": "stream",
          "name": "stdout",
          "text": [
            "avg fit time: 0.027790164947509764\n",
            "avg score time: 0.003362894058227539\n",
            "avg test score: 0.9720634920634922\n"
          ]
        }
      ]
    },
    {
      "cell_type": "markdown",
      "metadata": {
        "id": "59r3mE7H92wX"
      },
      "source": [
        "##### 유방암 데이터"
      ]
    },
    {
      "cell_type": "code",
      "execution_count": null,
      "metadata": {
        "colab": {
          "base_uri": "https://localhost:8080/"
        },
        "id": "fKrFeOA9XZ53",
        "outputId": "1af30e4f-bcfd-4cd9-a184-e4324d2c78ff"
      },
      "outputs": [
        {
          "output_type": "stream",
          "name": "stdout",
          "text": [
            "avg fit time: 0.005152463912963867\n",
            "avg score time: 0.0016344070434570312\n",
            "avg test score: 0.9736376339077782\n"
          ]
        }
      ],
      "source": [
        "cross_val = cross_validate(\n",
        "    estimator = base_model,\n",
        "    X=cancer.data, y = cancer.target,\n",
        "    cv=5\n",
        ")\n",
        "print(f\"avg fit time: {cross_val['fit_time'].mean()}\")\n",
        "print(f\"avg score time: {cross_val['score_time'].mean()}\")\n",
        "print(f\"avg test score: {cross_val['test_score'].mean()}\")"
      ]
    },
    {
      "cell_type": "code",
      "source": [
        "cross_val = cross_validate(\n",
        "    estimator = bagging_model,\n",
        "    X=cancer.data, y = cancer.target,\n",
        "    cv=5\n",
        ")\n",
        "print(f\"avg fit time: {cross_val['fit_time'].mean()}\")\n",
        "print(f\"avg score time: {cross_val['score_time'].mean()}\")\n",
        "print(f\"avg test score: {cross_val['test_score'].mean()}\")"
      ],
      "metadata": {
        "colab": {
          "base_uri": "https://localhost:8080/"
        },
        "id": "0lVt0c5AaJ4J",
        "outputId": "fbe4d96d-48a2-40bd-c7de-d8d25f8766e2"
      },
      "execution_count": null,
      "outputs": [
        {
          "output_type": "stream",
          "name": "stdout",
          "text": [
            "avg fit time: 0.05262150764465332\n",
            "avg score time: 0.011774444580078125\n",
            "avg test score: 0.9683744760130415\n"
          ]
        }
      ]
    },
    {
      "cell_type": "markdown",
      "metadata": {
        "id": "Gtpz-2Ly-gF2"
      },
      "source": [
        "#### Decision Tree + Bagging"
      ]
    },
    {
      "cell_type": "markdown",
      "metadata": {
        "id": "3A4T9Bv--jF-"
      },
      "source": [
        "##### 붓꽃 데이터"
      ]
    },
    {
      "cell_type": "code",
      "execution_count": null,
      "metadata": {
        "id": "hZUIkgbNQv29"
      },
      "outputs": [],
      "source": [
        "base_model = make_pipeline(\n",
        "    StandardScaler(),\n",
        "    DecisionTreeClassifier()\n",
        ")\n",
        "\n",
        "bagging_model = BaggingClassifier(base_model, n_estimators=10, max_samples=.5, max_features=.5)"
      ]
    },
    {
      "cell_type": "code",
      "execution_count": null,
      "metadata": {
        "colab": {
          "base_uri": "https://localhost:8080/"
        },
        "id": "8EM-BCg9Qv2-",
        "outputId": "0d7dd476-7f14-4eb1-d384-b241c90d61ae"
      },
      "outputs": [
        {
          "output_type": "stream",
          "name": "stdout",
          "text": [
            "avg fit time: 0.001516866683959961\n",
            "avg score time: 0.00042214393615722654\n",
            "avg test score: 0.9600000000000002\n"
          ]
        }
      ],
      "source": [
        "cross_val = cross_validate(\n",
        "    estimator = base_model,\n",
        "    X=iris.data, y = iris.target,\n",
        "    cv=5\n",
        ")\n",
        "print(f\"avg fit time: {cross_val['fit_time'].mean()}\")\n",
        "print(f\"avg score time: {cross_val['score_time'].mean()}\")\n",
        "print(f\"avg test score: {cross_val['test_score'].mean()}\")"
      ]
    },
    {
      "cell_type": "code",
      "execution_count": null,
      "metadata": {
        "colab": {
          "base_uri": "https://localhost:8080/"
        },
        "id": "RF9GuakgQv2-",
        "outputId": "93549c45-dece-48e9-fcd8-f89071575b38"
      },
      "outputs": [
        {
          "output_type": "stream",
          "name": "stdout",
          "text": [
            "avg fit time: 0.020736026763916015\n",
            "avg score time: 0.0020793914794921876\n",
            "avg test score: 0.9199999999999999\n"
          ]
        }
      ],
      "source": [
        "cross_val = cross_validate(\n",
        "    estimator = bagging_model,\n",
        "    X=iris.data, y = iris.target,\n",
        "    cv=5\n",
        ")\n",
        "print(f\"avg fit time: {cross_val['fit_time'].mean()}\")\n",
        "print(f\"avg score time: {cross_val['score_time'].mean()}\")\n",
        "print(f\"avg test score: {cross_val['test_score'].mean()}\")"
      ]
    },
    {
      "cell_type": "markdown",
      "metadata": {
        "id": "Ninof3DO_IO3"
      },
      "source": [
        "##### 와인 데이터"
      ]
    },
    {
      "cell_type": "code",
      "execution_count": null,
      "metadata": {
        "colab": {
          "base_uri": "https://localhost:8080/"
        },
        "id": "um9yrYktXZ54",
        "outputId": "aa97306c-ed9d-4214-a731-23900833f343"
      },
      "outputs": [
        {
          "output_type": "stream",
          "name": "stdout",
          "text": [
            "avg fit time: 0.0017923831939697266\n",
            "avg score time: 0.0005547046661376953\n",
            "avg test score: 0.8709523809523809\n"
          ]
        }
      ],
      "source": [
        "cross_val = cross_validate(\n",
        "    estimator = base_model,\n",
        "    X=wine.data, y = wine.target,\n",
        "    cv=5\n",
        ")\n",
        "print(f\"avg fit time: {cross_val['fit_time'].mean()}\")\n",
        "print(f\"avg score time: {cross_val['score_time'].mean()}\")\n",
        "print(f\"avg test score: {cross_val['test_score'].mean()}\")"
      ]
    },
    {
      "cell_type": "code",
      "source": [
        "cross_val = cross_validate(\n",
        "    estimator = bagging_model,\n",
        "    X=wine.data, y = wine.target,\n",
        "    cv=5\n",
        ")\n",
        "print(f\"avg fit time: {cross_val['fit_time'].mean()}\")\n",
        "print(f\"avg score time: {cross_val['score_time'].mean()}\")\n",
        "print(f\"avg test score: {cross_val['test_score'].mean()}\")"
      ],
      "metadata": {
        "colab": {
          "base_uri": "https://localhost:8080/"
        },
        "id": "UNWlZK30aaXu",
        "outputId": "de14be14-a83b-4977-a128-a9d9e9b423a2"
      },
      "execution_count": null,
      "outputs": [
        {
          "output_type": "stream",
          "name": "stdout",
          "text": [
            "avg fit time: 0.024535942077636718\n",
            "avg score time: 0.002945232391357422\n",
            "avg test score: 0.9553968253968254\n"
          ]
        }
      ]
    },
    {
      "cell_type": "markdown",
      "metadata": {
        "id": "uVlALN6t-i3T"
      },
      "source": [
        "##### 유방암 데이터"
      ]
    },
    {
      "cell_type": "code",
      "execution_count": null,
      "metadata": {
        "colab": {
          "base_uri": "https://localhost:8080/"
        },
        "id": "gDjLYjOUXZ54",
        "outputId": "008ccf95-54ad-4879-cb9c-9d1f1d310b2e"
      },
      "outputs": [
        {
          "output_type": "stream",
          "name": "stdout",
          "text": [
            "avg fit time: 0.00845632553100586\n",
            "avg score time: 0.0005257129669189453\n",
            "avg test score: 0.9121099208197483\n"
          ]
        }
      ],
      "source": [
        "cross_val = cross_validate(\n",
        "    estimator = base_model,\n",
        "    X=cancer.data, y = cancer.target,\n",
        "    cv=5\n",
        ")\n",
        "print(f\"avg fit time: {cross_val['fit_time'].mean()}\")\n",
        "print(f\"avg score time: {cross_val['score_time'].mean()}\")\n",
        "print(f\"avg test score: {cross_val['test_score'].mean()}\")"
      ]
    },
    {
      "cell_type": "code",
      "source": [
        "cross_val = cross_validate(\n",
        "    estimator = bagging_model,\n",
        "    X=cancer.data, y = cancer.target,\n",
        "    cv=5\n",
        ")\n",
        "print(f\"avg fit time: {cross_val['fit_time'].mean()}\")\n",
        "print(f\"avg score time: {cross_val['score_time'].mean()}\")\n",
        "print(f\"avg test score: {cross_val['test_score'].mean()}\")"
      ],
      "metadata": {
        "colab": {
          "base_uri": "https://localhost:8080/"
        },
        "id": "dI8YWR6GalpF",
        "outputId": "0ec2b5b0-86ac-4126-e743-f18a750b01d9"
      },
      "execution_count": null,
      "outputs": [
        {
          "output_type": "stream",
          "name": "stdout",
          "text": [
            "avg fit time: 0.03265256881713867\n",
            "avg score time: 0.002206897735595703\n",
            "avg test score: 0.9473063188945815\n"
          ]
        }
      ]
    },
    {
      "cell_type": "markdown",
      "metadata": {
        "id": "G8m4pTeC_Y7Q"
      },
      "source": [
        "### Bagging을 사용한 회귀"
      ]
    },
    {
      "cell_type": "markdown",
      "metadata": {
        "id": "47h6mi6D_cu3"
      },
      "source": [
        "#### 데이터셋 불러오기"
      ]
    },
    {
      "cell_type": "code",
      "execution_count": null,
      "metadata": {
        "id": "UN7-vRcK_pKZ"
      },
      "outputs": [],
      "source": [
        "boston = load_boston()\n",
        "diabetes = load_diabetes()"
      ]
    },
    {
      "cell_type": "markdown",
      "metadata": {
        "id": "lBSK7rhp_gMV"
      },
      "source": [
        "#### KNN + Bagging"
      ]
    },
    {
      "cell_type": "markdown",
      "metadata": {
        "id": "Ze7yqMOL_t34"
      },
      "source": [
        "##### 보스턴 주택 가격 데이터"
      ]
    },
    {
      "cell_type": "code",
      "execution_count": null,
      "metadata": {
        "id": "xmFbreJURUff"
      },
      "outputs": [],
      "source": [
        "base_model = make_pipeline(\n",
        "    StandardScaler(),\n",
        "    KNeighborsRegressor()\n",
        ")\n",
        "\n",
        "bagging_model = BaggingRegressor(base_model, n_estimators=10, max_samples=.5, max_features=.5)"
      ]
    },
    {
      "cell_type": "code",
      "execution_count": null,
      "metadata": {
        "colab": {
          "base_uri": "https://localhost:8080/"
        },
        "id": "oh8mpLJbRUfg",
        "outputId": "1a7bc7d0-c2e7-4117-8a06-541a70fcb448"
      },
      "outputs": [
        {
          "output_type": "stream",
          "name": "stdout",
          "text": [
            "avg fit time: 0.0012506008148193359\n",
            "avg score time: 0.0012449264526367188\n",
            "avg test score: 0.47357748833823543\n"
          ]
        }
      ],
      "source": [
        "cross_val = cross_validate(\n",
        "    estimator = base_model,\n",
        "    X=boston.data, y = boston.target,\n",
        "    cv=5\n",
        ")\n",
        "print(f\"avg fit time: {cross_val['fit_time'].mean()}\")\n",
        "print(f\"avg score time: {cross_val['score_time'].mean()}\")\n",
        "print(f\"avg test score: {cross_val['test_score'].mean()}\")"
      ]
    },
    {
      "cell_type": "code",
      "execution_count": null,
      "metadata": {
        "colab": {
          "base_uri": "https://localhost:8080/"
        },
        "id": "DZyuHQL7RUfg",
        "outputId": "538c9113-e9f5-49fb-8fb4-e738f0048768"
      },
      "outputs": [
        {
          "output_type": "stream",
          "name": "stdout",
          "text": [
            "avg fit time: 0.017142248153686524\n",
            "avg score time: 0.007118797302246094\n",
            "avg test score: 0.41554553179015946\n"
          ]
        }
      ],
      "source": [
        "cross_val = cross_validate(\n",
        "    estimator = bagging_model,\n",
        "    X=boston.data, y = boston.target,\n",
        "    cv=5\n",
        ")\n",
        "print(f\"avg fit time: {cross_val['fit_time'].mean()}\")\n",
        "print(f\"avg score time: {cross_val['score_time'].mean()}\")\n",
        "print(f\"avg test score: {cross_val['test_score'].mean()}\")"
      ]
    },
    {
      "cell_type": "markdown",
      "metadata": {
        "id": "vsCxrkMO_td0"
      },
      "source": [
        "##### 당뇨병 데이터"
      ]
    },
    {
      "cell_type": "code",
      "execution_count": null,
      "metadata": {
        "colab": {
          "base_uri": "https://localhost:8080/"
        },
        "id": "zoqcu7PxXZ55",
        "outputId": "cc64bbea-04f0-43f4-a5f4-a488082c94d3"
      },
      "outputs": [
        {
          "output_type": "stream",
          "name": "stdout",
          "text": [
            "avg fit time: 0.0016741275787353516\n",
            "avg score time: 0.0018115997314453124\n",
            "avg test score: 0.3689720650295623\n"
          ]
        }
      ],
      "source": [
        "cross_val = cross_validate(\n",
        "    estimator = base_model,\n",
        "    X=diabetes.data, y = diabetes.target,\n",
        "    cv=5\n",
        ")\n",
        "print(f\"avg fit time: {cross_val['fit_time'].mean()}\")\n",
        "print(f\"avg score time: {cross_val['score_time'].mean()}\")\n",
        "print(f\"avg test score: {cross_val['test_score'].mean()}\")"
      ]
    },
    {
      "cell_type": "code",
      "source": [
        "cross_val = cross_validate(\n",
        "    estimator = bagging_model,\n",
        "    X=diabetes.data, y = diabetes.target,\n",
        "    cv=5\n",
        ")\n",
        "print(f\"avg fit time: {cross_val['fit_time'].mean()}\")\n",
        "print(f\"avg score time: {cross_val['score_time'].mean()}\")\n",
        "print(f\"avg test score: {cross_val['test_score'].mean()}\")"
      ],
      "metadata": {
        "colab": {
          "base_uri": "https://localhost:8080/"
        },
        "id": "6LHKBbQubNHF",
        "outputId": "8bef4469-7f28-4636-edf2-d0bd487b7711"
      },
      "execution_count": null,
      "outputs": [
        {
          "output_type": "stream",
          "name": "stdout",
          "text": [
            "avg fit time: 0.043489265441894534\n",
            "avg score time: 0.01722292900085449\n",
            "avg test score: 0.38983617296559014\n"
          ]
        }
      ]
    },
    {
      "cell_type": "markdown",
      "metadata": {
        "id": "UNWloxDa_fvn"
      },
      "source": [
        "#### SVR + Bagging"
      ]
    },
    {
      "cell_type": "markdown",
      "metadata": {
        "id": "NRDHG3iX_ygt"
      },
      "source": [
        "##### 보스턴 주택 가격 데이터"
      ]
    },
    {
      "cell_type": "code",
      "execution_count": null,
      "metadata": {
        "id": "vfQIoAPVR1aj"
      },
      "outputs": [],
      "source": [
        "base_model = make_pipeline(\n",
        "    StandardScaler(),\n",
        "    SVR()\n",
        ")\n",
        "\n",
        "bagging_model = BaggingRegressor(base_model, n_estimators=10, max_samples=.5, max_features=.5)"
      ]
    },
    {
      "cell_type": "code",
      "execution_count": null,
      "metadata": {
        "colab": {
          "base_uri": "https://localhost:8080/"
        },
        "id": "UpwXQx7KR1ak",
        "outputId": "d60e88b3-d1a8-4858-f175-9de8295a6843"
      },
      "outputs": [
        {
          "output_type": "stream",
          "name": "stdout",
          "text": [
            "avg fit time: 0.010682487487792968\n",
            "avg score time: 0.0028667449951171875\n",
            "avg test score: 0.17631266230186618\n"
          ]
        }
      ],
      "source": [
        "cross_val = cross_validate(\n",
        "    estimator = base_model,\n",
        "    X=boston.data, y = boston.target,\n",
        "    cv=5\n",
        ")\n",
        "print(f\"avg fit time: {cross_val['fit_time'].mean()}\")\n",
        "print(f\"avg score time: {cross_val['score_time'].mean()}\")\n",
        "print(f\"avg test score: {cross_val['test_score'].mean()}\")"
      ]
    },
    {
      "cell_type": "code",
      "execution_count": null,
      "metadata": {
        "colab": {
          "base_uri": "https://localhost:8080/"
        },
        "id": "NnAh-5eNR1al",
        "outputId": "fe1b96e5-505f-4b82-e1e2-3ce9bdb399ec"
      },
      "outputs": [
        {
          "output_type": "stream",
          "name": "stdout",
          "text": [
            "avg fit time: 0.039025068283081055\n",
            "avg score time: 0.01263585090637207\n",
            "avg test score: 0.17664389528453914\n"
          ]
        }
      ],
      "source": [
        "cross_val = cross_validate(\n",
        "    estimator = bagging_model,\n",
        "    X=boston.data, y = boston.target,\n",
        "    cv=5\n",
        ")\n",
        "print(f\"avg fit time: {cross_val['fit_time'].mean()}\")\n",
        "print(f\"avg score time: {cross_val['score_time'].mean()}\")\n",
        "print(f\"avg test score: {cross_val['test_score'].mean()}\")"
      ]
    },
    {
      "cell_type": "markdown",
      "metadata": {
        "id": "dB98AXg7_004"
      },
      "source": [
        "##### 당뇨병 데이터"
      ]
    },
    {
      "cell_type": "code",
      "execution_count": null,
      "metadata": {
        "colab": {
          "base_uri": "https://localhost:8080/"
        },
        "id": "PqYwFmc5XZ56",
        "outputId": "be7ea4d4-4edf-4c2c-bd64-b373f683e980"
      },
      "outputs": [
        {
          "output_type": "stream",
          "name": "stdout",
          "text": [
            "avg fit time: 0.009217643737792968\n",
            "avg score time: 0.0023069858551025392\n",
            "avg test score: 0.14659936199629434\n"
          ]
        }
      ],
      "source": [
        "cross_val = cross_validate(\n",
        "    estimator = base_model,\n",
        "    X=diabetes.data, y = diabetes.target,\n",
        "    cv=5\n",
        ")\n",
        "print(f\"avg fit time: {cross_val['fit_time'].mean()}\")\n",
        "print(f\"avg score time: {cross_val['score_time'].mean()}\")\n",
        "print(f\"avg test score: {cross_val['test_score'].mean()}\")"
      ]
    },
    {
      "cell_type": "code",
      "source": [
        "cross_val = cross_validate(\n",
        "    estimator = bagging_model,\n",
        "    X=diabetes.data, y = diabetes.target,\n",
        "    cv=5\n",
        ")\n",
        "print(f\"avg fit time: {cross_val['fit_time'].mean()}\")\n",
        "print(f\"avg score time: {cross_val['score_time'].mean()}\")\n",
        "print(f\"avg test score: {cross_val['test_score'].mean()}\")"
      ],
      "metadata": {
        "colab": {
          "base_uri": "https://localhost:8080/"
        },
        "id": "9yHy2r89bcmN",
        "outputId": "efc537cc-1f2d-43eb-c3e6-f1174ae19c54"
      },
      "execution_count": null,
      "outputs": [
        {
          "output_type": "stream",
          "name": "stdout",
          "text": [
            "avg fit time: 0.03450860977172852\n",
            "avg score time: 0.010053062438964843\n",
            "avg test score: 0.07743755187890902\n"
          ]
        }
      ]
    },
    {
      "cell_type": "markdown",
      "metadata": {
        "id": "Ffge42tG_fFc"
      },
      "source": [
        "#### Decision Tree + Bagging"
      ]
    },
    {
      "cell_type": "markdown",
      "metadata": {
        "id": "MWWTfD6T_44c"
      },
      "source": [
        "##### 보스턴 주택 가격 데이터"
      ]
    },
    {
      "cell_type": "code",
      "execution_count": null,
      "metadata": {
        "id": "vsweWJ5JSQ3-"
      },
      "outputs": [],
      "source": [
        "base_model = make_pipeline(\n",
        "    StandardScaler(),\n",
        "    DecisionTreeRegressor()\n",
        ")\n",
        "\n",
        "bagging_model = BaggingRegressor(base_model, n_estimators=10, max_samples=.5, max_features=.5)"
      ]
    },
    {
      "cell_type": "code",
      "execution_count": null,
      "metadata": {
        "colab": {
          "base_uri": "https://localhost:8080/"
        },
        "id": "2VCEj7H2SQ3_",
        "outputId": "3cc7d826-38dd-43b3-e29f-a4ffae39e5b3"
      },
      "outputs": [
        {
          "output_type": "stream",
          "name": "stdout",
          "text": [
            "avg fit time: 0.004468727111816406\n",
            "avg score time: 0.0006801128387451172\n",
            "avg test score: 0.1302696789260276\n"
          ]
        }
      ],
      "source": [
        "cross_val = cross_validate(\n",
        "    estimator = base_model,\n",
        "    X=boston.data, y = boston.target,\n",
        "    cv=5\n",
        ")\n",
        "print(f\"avg fit time: {cross_val['fit_time'].mean()}\")\n",
        "print(f\"avg score time: {cross_val['score_time'].mean()}\")\n",
        "print(f\"avg test score: {cross_val['test_score'].mean()}\")"
      ]
    },
    {
      "cell_type": "code",
      "execution_count": null,
      "metadata": {
        "colab": {
          "base_uri": "https://localhost:8080/"
        },
        "id": "22Jypd5mSQ4A",
        "outputId": "09d6ec74-4f9e-4418-bcea-c038b890e66f"
      },
      "outputs": [
        {
          "output_type": "stream",
          "name": "stdout",
          "text": [
            "avg fit time: 0.0265533447265625\n",
            "avg score time: 0.0020028114318847655\n",
            "avg test score: 0.5527901564697586\n"
          ]
        }
      ],
      "source": [
        "cross_val = cross_validate(\n",
        "    estimator = bagging_model,\n",
        "    X=boston.data, y = boston.target,\n",
        "    cv=5\n",
        ")\n",
        "print(f\"avg fit time: {cross_val['fit_time'].mean()}\")\n",
        "print(f\"avg score time: {cross_val['score_time'].mean()}\")\n",
        "print(f\"avg test score: {cross_val['test_score'].mean()}\")"
      ]
    },
    {
      "cell_type": "markdown",
      "metadata": {
        "id": "djcuGIS-_4kG"
      },
      "source": [
        "##### 당뇨병 데이터"
      ]
    },
    {
      "cell_type": "code",
      "execution_count": null,
      "metadata": {
        "colab": {
          "base_uri": "https://localhost:8080/"
        },
        "id": "_m16uwaqXZ56",
        "outputId": "682f3f58-f1d5-4fa8-9412-78badbf0bf04"
      },
      "outputs": [
        {
          "output_type": "stream",
          "name": "stdout",
          "text": [
            "avg fit time: 0.005020999908447265\n",
            "avg score time: 0.000739288330078125\n",
            "avg test score: -0.11725180620614524\n"
          ]
        }
      ],
      "source": [
        "cross_val = cross_validate(\n",
        "    estimator = base_model,\n",
        "    X=diabetes.data, y = diabetes.target,\n",
        "    cv=5\n",
        ")\n",
        "print(f\"avg fit time: {cross_val['fit_time'].mean()}\")\n",
        "print(f\"avg score time: {cross_val['score_time'].mean()}\")\n",
        "print(f\"avg test score: {cross_val['test_score'].mean()}\")"
      ]
    },
    {
      "cell_type": "code",
      "source": [
        "cross_val = cross_validate(\n",
        "    estimator = bagging_model,\n",
        "    X=diabetes.data, y = diabetes.target,\n",
        "    cv=5\n",
        ")\n",
        "print(f\"avg fit time: {cross_val['fit_time'].mean()}\")\n",
        "print(f\"avg score time: {cross_val['score_time'].mean()}\")\n",
        "print(f\"avg test score: {cross_val['test_score'].mean()}\")"
      ],
      "metadata": {
        "id": "Tbm5vT59bkiO",
        "outputId": "59d7ca6b-340e-48d7-9a46-3fbdb01402ca",
        "colab": {
          "base_uri": "https://localhost:8080/"
        }
      },
      "execution_count": null,
      "outputs": [
        {
          "output_type": "stream",
          "name": "stdout",
          "text": [
            "avg fit time: 0.040183734893798825\n",
            "avg score time: 0.003127288818359375\n",
            "avg test score: 0.370778928744094\n"
          ]
        }
      ]
    },
    {
      "cell_type": "code",
      "source": [],
      "metadata": {
        "id": "jrDr2QJIbmv3"
      },
      "execution_count": null,
      "outputs": []
    }
  ],
  "metadata": {
    "colab": {
      "provenance": []
    },
    "kernelspec": {
      "display_name": "ml",
      "language": "python",
      "name": "python3"
    },
    "language_info": {
      "codemirror_mode": {
        "name": "ipython",
        "version": 3
      },
      "file_extension": ".py",
      "mimetype": "text/x-python",
      "name": "python",
      "nbconvert_exporter": "python",
      "pygments_lexer": "ipython3",
      "version": "3.8.15"
    },
    "vscode": {
      "interpreter": {
        "hash": "106dcd2154cfa932e62c1d0bc1ce9c27a83b078e0171c73c85fcd8f00976afbc"
      }
    }
  },
  "nbformat": 4,
  "nbformat_minor": 0
}